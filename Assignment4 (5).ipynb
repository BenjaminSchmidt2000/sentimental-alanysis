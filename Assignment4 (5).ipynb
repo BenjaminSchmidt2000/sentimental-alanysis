{
  "nbformat": 4,
  "nbformat_minor": 0,
  "metadata": {
    "colab": {
      "provenance": [],
      "machine_shape": "hm",
      "gpuType": "L4"
    },
    "kernelspec": {
      "name": "python3",
      "display_name": "Python 3"
    },
    "language_info": {
      "name": "python"
    },
    "accelerator": "GPU"
  },
  "cells": [
    {
      "cell_type": "markdown",
      "source": [
        "# 2487 Machine Learning Assignment 4\n",
        "#Inside Out\n",
        "![](https://upload.wikimedia.org/wikipedia/en/0/0a/Inside_Out_%282015_film%29_poster.jpg)\n",
        "\n",
        "\n",
        "\n",
        "\n",
        "Emotion is a dataset of English Twitter messages with six basic emotions: anger, fear, joy, love, sadness, and surprise.\n",
        "\n",
        "Your task is to use deep learning techniques to classify the Tweets into the corresponding emotions:"
      ],
      "metadata": {
        "id": "k9ymw1lKQW0K"
      }
    },
    {
      "cell_type": "code",
      "source": [
        "# Install compatible versions of TensorFlow and TensorFlow Hub\n",
        "!pip install tensorflow==2.13.0 tensorflow_hub==0.13.0 tensorflow_text\n"
      ],
      "metadata": {
        "colab": {
          "base_uri": "https://localhost:8080/"
        },
        "id": "aIj-uppz1neE",
        "outputId": "747d8a6c-0df7-4326-818b-6471da1d090c"
      },
      "execution_count": 24,
      "outputs": [
        {
          "output_type": "stream",
          "name": "stdout",
          "text": [
            "Requirement already satisfied: tensorflow==2.13.0 in /usr/local/lib/python3.10/dist-packages (2.13.0)\n",
            "Requirement already satisfied: tensorflow_hub==0.13.0 in /usr/local/lib/python3.10/dist-packages (0.13.0)\n",
            "Requirement already satisfied: tensorflow_text in /usr/local/lib/python3.10/dist-packages (2.13.0)\n",
            "Requirement already satisfied: absl-py>=1.0.0 in /usr/local/lib/python3.10/dist-packages (from tensorflow==2.13.0) (1.4.0)\n",
            "Requirement already satisfied: astunparse>=1.6.0 in /usr/local/lib/python3.10/dist-packages (from tensorflow==2.13.0) (1.6.3)\n",
            "Requirement already satisfied: flatbuffers>=23.1.21 in /usr/local/lib/python3.10/dist-packages (from tensorflow==2.13.0) (24.3.25)\n",
            "Requirement already satisfied: gast<=0.4.0,>=0.2.1 in /usr/local/lib/python3.10/dist-packages (from tensorflow==2.13.0) (0.4.0)\n",
            "Requirement already satisfied: google-pasta>=0.1.1 in /usr/local/lib/python3.10/dist-packages (from tensorflow==2.13.0) (0.2.0)\n",
            "Requirement already satisfied: grpcio<2.0,>=1.24.3 in /usr/local/lib/python3.10/dist-packages (from tensorflow==2.13.0) (1.63.0)\n",
            "Requirement already satisfied: h5py>=2.9.0 in /usr/local/lib/python3.10/dist-packages (from tensorflow==2.13.0) (3.9.0)\n",
            "Requirement already satisfied: keras<2.14,>=2.13.1 in /usr/local/lib/python3.10/dist-packages (from tensorflow==2.13.0) (2.13.1)\n",
            "Requirement already satisfied: libclang>=13.0.0 in /usr/local/lib/python3.10/dist-packages (from tensorflow==2.13.0) (18.1.1)\n",
            "Requirement already satisfied: numpy<=1.24.3,>=1.22 in /usr/local/lib/python3.10/dist-packages (from tensorflow==2.13.0) (1.24.3)\n",
            "Requirement already satisfied: opt-einsum>=2.3.2 in /usr/local/lib/python3.10/dist-packages (from tensorflow==2.13.0) (3.3.0)\n",
            "Requirement already satisfied: packaging in /usr/local/lib/python3.10/dist-packages (from tensorflow==2.13.0) (24.0)\n",
            "Requirement already satisfied: protobuf!=4.21.0,!=4.21.1,!=4.21.2,!=4.21.3,!=4.21.4,!=4.21.5,<5.0.0dev,>=3.20.3 in /usr/local/lib/python3.10/dist-packages (from tensorflow==2.13.0) (3.20.3)\n",
            "Requirement already satisfied: setuptools in /usr/local/lib/python3.10/dist-packages (from tensorflow==2.13.0) (67.7.2)\n",
            "Requirement already satisfied: six>=1.12.0 in /usr/local/lib/python3.10/dist-packages (from tensorflow==2.13.0) (1.16.0)\n",
            "Requirement already satisfied: tensorboard<2.14,>=2.13 in /usr/local/lib/python3.10/dist-packages (from tensorflow==2.13.0) (2.13.0)\n",
            "Requirement already satisfied: tensorflow-estimator<2.14,>=2.13.0 in /usr/local/lib/python3.10/dist-packages (from tensorflow==2.13.0) (2.13.0)\n",
            "Requirement already satisfied: termcolor>=1.1.0 in /usr/local/lib/python3.10/dist-packages (from tensorflow==2.13.0) (2.4.0)\n",
            "Requirement already satisfied: typing-extensions<4.6.0,>=3.6.6 in /usr/local/lib/python3.10/dist-packages (from tensorflow==2.13.0) (4.5.0)\n",
            "Requirement already satisfied: wrapt>=1.11.0 in /usr/local/lib/python3.10/dist-packages (from tensorflow==2.13.0) (1.14.1)\n",
            "Requirement already satisfied: tensorflow-io-gcs-filesystem>=0.23.1 in /usr/local/lib/python3.10/dist-packages (from tensorflow==2.13.0) (0.37.0)\n",
            "Requirement already satisfied: wheel<1.0,>=0.23.0 in /usr/local/lib/python3.10/dist-packages (from astunparse>=1.6.0->tensorflow==2.13.0) (0.43.0)\n",
            "Requirement already satisfied: google-auth<3,>=1.6.3 in /usr/local/lib/python3.10/dist-packages (from tensorboard<2.14,>=2.13->tensorflow==2.13.0) (2.27.0)\n",
            "Requirement already satisfied: google-auth-oauthlib<1.1,>=0.5 in /usr/local/lib/python3.10/dist-packages (from tensorboard<2.14,>=2.13->tensorflow==2.13.0) (1.0.0)\n",
            "Requirement already satisfied: markdown>=2.6.8 in /usr/local/lib/python3.10/dist-packages (from tensorboard<2.14,>=2.13->tensorflow==2.13.0) (3.6)\n",
            "Requirement already satisfied: requests<3,>=2.21.0 in /usr/local/lib/python3.10/dist-packages (from tensorboard<2.14,>=2.13->tensorflow==2.13.0) (2.31.0)\n",
            "Requirement already satisfied: tensorboard-data-server<0.8.0,>=0.7.0 in /usr/local/lib/python3.10/dist-packages (from tensorboard<2.14,>=2.13->tensorflow==2.13.0) (0.7.2)\n",
            "Requirement already satisfied: werkzeug>=1.0.1 in /usr/local/lib/python3.10/dist-packages (from tensorboard<2.14,>=2.13->tensorflow==2.13.0) (3.0.3)\n",
            "Requirement already satisfied: cachetools<6.0,>=2.0.0 in /usr/local/lib/python3.10/dist-packages (from google-auth<3,>=1.6.3->tensorboard<2.14,>=2.13->tensorflow==2.13.0) (5.3.3)\n",
            "Requirement already satisfied: pyasn1-modules>=0.2.1 in /usr/local/lib/python3.10/dist-packages (from google-auth<3,>=1.6.3->tensorboard<2.14,>=2.13->tensorflow==2.13.0) (0.4.0)\n",
            "Requirement already satisfied: rsa<5,>=3.1.4 in /usr/local/lib/python3.10/dist-packages (from google-auth<3,>=1.6.3->tensorboard<2.14,>=2.13->tensorflow==2.13.0) (4.9)\n",
            "Requirement already satisfied: requests-oauthlib>=0.7.0 in /usr/local/lib/python3.10/dist-packages (from google-auth-oauthlib<1.1,>=0.5->tensorboard<2.14,>=2.13->tensorflow==2.13.0) (1.3.1)\n",
            "Requirement already satisfied: charset-normalizer<4,>=2 in /usr/local/lib/python3.10/dist-packages (from requests<3,>=2.21.0->tensorboard<2.14,>=2.13->tensorflow==2.13.0) (3.3.2)\n",
            "Requirement already satisfied: idna<4,>=2.5 in /usr/local/lib/python3.10/dist-packages (from requests<3,>=2.21.0->tensorboard<2.14,>=2.13->tensorflow==2.13.0) (3.7)\n",
            "Requirement already satisfied: urllib3<3,>=1.21.1 in /usr/local/lib/python3.10/dist-packages (from requests<3,>=2.21.0->tensorboard<2.14,>=2.13->tensorflow==2.13.0) (2.0.7)\n",
            "Requirement already satisfied: certifi>=2017.4.17 in /usr/local/lib/python3.10/dist-packages (from requests<3,>=2.21.0->tensorboard<2.14,>=2.13->tensorflow==2.13.0) (2024.2.2)\n",
            "Requirement already satisfied: MarkupSafe>=2.1.1 in /usr/local/lib/python3.10/dist-packages (from werkzeug>=1.0.1->tensorboard<2.14,>=2.13->tensorflow==2.13.0) (2.1.5)\n",
            "Requirement already satisfied: pyasn1<0.7.0,>=0.4.6 in /usr/local/lib/python3.10/dist-packages (from pyasn1-modules>=0.2.1->google-auth<3,>=1.6.3->tensorboard<2.14,>=2.13->tensorflow==2.13.0) (0.6.0)\n",
            "Requirement already satisfied: oauthlib>=3.0.0 in /usr/local/lib/python3.10/dist-packages (from requests-oauthlib>=0.7.0->google-auth-oauthlib<1.1,>=0.5->tensorboard<2.14,>=2.13->tensorflow==2.13.0) (3.2.2)\n"
          ]
        }
      ]
    },
    {
      "cell_type": "code",
      "source": [
        "!pip install datasets transformers"
      ],
      "metadata": {
        "colab": {
          "base_uri": "https://localhost:8080/"
        },
        "id": "RXaD2sbxnTxe",
        "outputId": "96f07d55-734c-4d02-cc08-548c0ddb547c"
      },
      "execution_count": 1,
      "outputs": [
        {
          "output_type": "stream",
          "name": "stdout",
          "text": [
            "Requirement already satisfied: datasets in /usr/local/lib/python3.10/dist-packages (2.19.1)\n",
            "Requirement already satisfied: transformers in /usr/local/lib/python3.10/dist-packages (4.40.2)\n",
            "Requirement already satisfied: filelock in /usr/local/lib/python3.10/dist-packages (from datasets) (3.14.0)\n",
            "Requirement already satisfied: numpy>=1.17 in /usr/local/lib/python3.10/dist-packages (from datasets) (1.24.3)\n",
            "Requirement already satisfied: pyarrow>=12.0.0 in /usr/local/lib/python3.10/dist-packages (from datasets) (14.0.2)\n",
            "Requirement already satisfied: pyarrow-hotfix in /usr/local/lib/python3.10/dist-packages (from datasets) (0.6)\n",
            "Requirement already satisfied: dill<0.3.9,>=0.3.0 in /usr/local/lib/python3.10/dist-packages (from datasets) (0.3.8)\n",
            "Requirement already satisfied: pandas in /usr/local/lib/python3.10/dist-packages (from datasets) (2.0.3)\n",
            "Requirement already satisfied: requests>=2.19.0 in /usr/local/lib/python3.10/dist-packages (from datasets) (2.31.0)\n",
            "Requirement already satisfied: tqdm>=4.62.1 in /usr/local/lib/python3.10/dist-packages (from datasets) (4.66.4)\n",
            "Requirement already satisfied: xxhash in /usr/local/lib/python3.10/dist-packages (from datasets) (3.4.1)\n",
            "Requirement already satisfied: multiprocess in /usr/local/lib/python3.10/dist-packages (from datasets) (0.70.16)\n",
            "Requirement already satisfied: fsspec[http]<=2024.3.1,>=2023.1.0 in /usr/local/lib/python3.10/dist-packages (from datasets) (2023.6.0)\n",
            "Requirement already satisfied: aiohttp in /usr/local/lib/python3.10/dist-packages (from datasets) (3.9.5)\n",
            "Requirement already satisfied: huggingface-hub>=0.21.2 in /usr/local/lib/python3.10/dist-packages (from datasets) (0.23.0)\n",
            "Requirement already satisfied: packaging in /usr/local/lib/python3.10/dist-packages (from datasets) (24.0)\n",
            "Requirement already satisfied: pyyaml>=5.1 in /usr/local/lib/python3.10/dist-packages (from datasets) (6.0.1)\n",
            "Requirement already satisfied: regex!=2019.12.17 in /usr/local/lib/python3.10/dist-packages (from transformers) (2023.12.25)\n",
            "Requirement already satisfied: tokenizers<0.20,>=0.19 in /usr/local/lib/python3.10/dist-packages (from transformers) (0.19.1)\n",
            "Requirement already satisfied: safetensors>=0.4.1 in /usr/local/lib/python3.10/dist-packages (from transformers) (0.4.3)\n",
            "Requirement already satisfied: aiosignal>=1.1.2 in /usr/local/lib/python3.10/dist-packages (from aiohttp->datasets) (1.3.1)\n",
            "Requirement already satisfied: attrs>=17.3.0 in /usr/local/lib/python3.10/dist-packages (from aiohttp->datasets) (23.2.0)\n",
            "Requirement already satisfied: frozenlist>=1.1.1 in /usr/local/lib/python3.10/dist-packages (from aiohttp->datasets) (1.4.1)\n",
            "Requirement already satisfied: multidict<7.0,>=4.5 in /usr/local/lib/python3.10/dist-packages (from aiohttp->datasets) (6.0.5)\n",
            "Requirement already satisfied: yarl<2.0,>=1.0 in /usr/local/lib/python3.10/dist-packages (from aiohttp->datasets) (1.9.4)\n",
            "Requirement already satisfied: async-timeout<5.0,>=4.0 in /usr/local/lib/python3.10/dist-packages (from aiohttp->datasets) (4.0.3)\n",
            "Requirement already satisfied: typing-extensions>=3.7.4.3 in /usr/local/lib/python3.10/dist-packages (from huggingface-hub>=0.21.2->datasets) (4.5.0)\n",
            "Requirement already satisfied: charset-normalizer<4,>=2 in /usr/local/lib/python3.10/dist-packages (from requests>=2.19.0->datasets) (3.3.2)\n",
            "Requirement already satisfied: idna<4,>=2.5 in /usr/local/lib/python3.10/dist-packages (from requests>=2.19.0->datasets) (3.7)\n",
            "Requirement already satisfied: urllib3<3,>=1.21.1 in /usr/local/lib/python3.10/dist-packages (from requests>=2.19.0->datasets) (2.0.7)\n",
            "Requirement already satisfied: certifi>=2017.4.17 in /usr/local/lib/python3.10/dist-packages (from requests>=2.19.0->datasets) (2024.2.2)\n",
            "Requirement already satisfied: python-dateutil>=2.8.2 in /usr/local/lib/python3.10/dist-packages (from pandas->datasets) (2.8.2)\n",
            "Requirement already satisfied: pytz>=2020.1 in /usr/local/lib/python3.10/dist-packages (from pandas->datasets) (2023.4)\n",
            "Requirement already satisfied: tzdata>=2022.1 in /usr/local/lib/python3.10/dist-packages (from pandas->datasets) (2024.1)\n",
            "Requirement already satisfied: six>=1.5 in /usr/local/lib/python3.10/dist-packages (from python-dateutil>=2.8.2->pandas->datasets) (1.16.0)\n"
          ]
        }
      ]
    },
    {
      "cell_type": "code",
      "execution_count": 25,
      "metadata": {
        "id": "vc-j0orrmX5n",
        "colab": {
          "base_uri": "https://localhost:8080/"
        },
        "outputId": "4fcb47ff-2337-40a7-f007-3545e05f96b0"
      },
      "outputs": [
        {
          "output_type": "stream",
          "name": "stderr",
          "text": [
            "/usr/local/lib/python3.10/dist-packages/datasets/load.py:1486: FutureWarning: The repository for emotion contains custom code which must be executed to correctly load the dataset. You can inspect the repository content at https://hf.co/datasets/emotion\n",
            "You can avoid this message in future by passing the argument `trust_remote_code=True`.\n",
            "Passing `trust_remote_code=True` will be mandatory to load this dataset from the next major release of `datasets`.\n",
            "  warnings.warn(\n"
          ]
        }
      ],
      "source": [
        "# Import necessary libraries\n",
        "import numpy as np\n",
        "import pandas as pd\n",
        "import matplotlib.pyplot as plt\n",
        "from collections import Counter\n",
        "\n",
        "# TensorFlow and Keras imports\n",
        "import tensorflow as tf\n",
        "from tensorflow.keras.preprocessing.text import Tokenizer\n",
        "from tensorflow.keras.preprocessing.sequence import pad_sequences\n",
        "from tensorflow.keras.models import Sequential\n",
        "from tensorflow.keras.layers import Embedding, SimpleRNN, LSTM, Dense\n",
        "from tensorflow.keras.utils import to_categorical\n",
        "from tensorflow.keras.callbacks import EarlyStopping\n",
        "\n",
        "# Gensim for pre-trained word embeddings\n",
        "import gensim.downloader as api\n",
        "\n",
        "# Load the dataset\n",
        "from datasets import load_dataset\n",
        "emotion = load_dataset('emotion')\n",
        "\n",
        "# Define a function to vectorize the text data (if needed)\n",
        "def vectorize_text(text, label):\n",
        "    # Add your vectorization logic here\n",
        "    return text, label\n",
        "\n",
        "# Optional imports for BERT and other advanced models (commented out)\n",
        "# import tensorflow_hub as hub\n",
        "# import tensorflow_text as text\n"
      ]
    },
    {
      "cell_type": "markdown",
      "source": [],
      "metadata": {
        "id": "x7vXhFGtQVEq"
      }
    },
    {
      "cell_type": "code",
      "source": [
        "emotion = load_dataset(\"dair-ai/emotion\")"
      ],
      "metadata": {
        "colab": {
          "base_uri": "https://localhost:8080/"
        },
        "id": "YxPL8H-hmY_u",
        "outputId": "53232936-1ef2-424a-8506-867783a4b6c6"
      },
      "execution_count": 3,
      "outputs": [
        {
          "output_type": "stream",
          "name": "stderr",
          "text": [
            "/usr/local/lib/python3.10/dist-packages/datasets/load.py:1486: FutureWarning: The repository for dair-ai/emotion contains custom code which must be executed to correctly load the dataset. You can inspect the repository content at https://hf.co/datasets/dair-ai/emotion\n",
            "You can avoid this message in future by passing the argument `trust_remote_code=True`.\n",
            "Passing `trust_remote_code=True` will be mandatory to load this dataset from the next major release of `datasets`.\n",
            "  warnings.warn(\n"
          ]
        }
      ]
    },
    {
      "cell_type": "markdown",
      "source": [
        "Data Fields\n",
        "\n",
        "The data fields are:\n",
        "\n",
        "- text: a string feature.\n",
        "- label: a classification label, with possible values including sadness (0), joy (1), love (2), anger (3), fear (4), surprise (5)."
      ],
      "metadata": {
        "id": "ih59gf6stXiN"
      }
    },
    {
      "cell_type": "code",
      "source": [
        "emotion['train'][0]['text'],emotion['train'][0]['label'],emotion['train'].features"
      ],
      "metadata": {
        "colab": {
          "base_uri": "https://localhost:8080/"
        },
        "id": "RMyMo8fOnmB1",
        "outputId": "7d3d419f-cf0c-4584-fd39-a99179f04827"
      },
      "execution_count": 4,
      "outputs": [
        {
          "output_type": "execute_result",
          "data": {
            "text/plain": [
              "('i didnt feel humiliated',\n",
              " 0,\n",
              " {'text': Value(dtype='string', id=None),\n",
              "  'label': ClassLabel(names=['sadness', 'joy', 'love', 'anger', 'fear', 'surprise'], id=None)})"
            ]
          },
          "metadata": {},
          "execution_count": 4
        }
      ]
    },
    {
      "cell_type": "code",
      "source": [
        "emotion['validation'][0]['text'],emotion['validation'][0]['label']"
      ],
      "metadata": {
        "colab": {
          "base_uri": "https://localhost:8080/"
        },
        "id": "kzpV-GQRuKIp",
        "outputId": "d0221afe-21d8-4bc2-b210-652c9fdaa859"
      },
      "execution_count": 6,
      "outputs": [
        {
          "output_type": "execute_result",
          "data": {
            "text/plain": [
              "('im feeling quite sad and sorry for myself but ill snap out of it soon', 0)"
            ]
          },
          "metadata": {},
          "execution_count": 6
        }
      ]
    },
    {
      "cell_type": "code",
      "source": [
        "emotion['test'][0]['text'],emotion['test'][0]['label']"
      ],
      "metadata": {
        "colab": {
          "base_uri": "https://localhost:8080/"
        },
        "id": "4Lic6Ex_uSiq",
        "outputId": "ba0ce6e6-30a4-4844-b0b5-5c006f29ace1"
      },
      "execution_count": 5,
      "outputs": [
        {
          "output_type": "execute_result",
          "data": {
            "text/plain": [
              "('im feeling rather rotten so im not very ambitious right now', 0)"
            ]
          },
          "metadata": {},
          "execution_count": 5
        }
      ]
    },
    {
      "cell_type": "markdown",
      "source": [
        "split: with a total of 20_000 examples split into train, validation and split"
      ],
      "metadata": {
        "id": "_ARdFqEgupAn"
      }
    },
    {
      "cell_type": "code",
      "source": [
        "emotion['train'].shape, emotion['validation'].shape, emotion['test'].shape"
      ],
      "metadata": {
        "colab": {
          "base_uri": "https://localhost:8080/"
        },
        "id": "cbvhfGo_uWr_",
        "outputId": "774061c8-21c9-4f36-bfca-b82699ee826c"
      },
      "execution_count": 7,
      "outputs": [
        {
          "output_type": "execute_result",
          "data": {
            "text/plain": [
              "((16000, 2), (2000, 2), (2000, 2))"
            ]
          },
          "metadata": {},
          "execution_count": 7
        }
      ]
    },
    {
      "cell_type": "markdown",
      "source": [
        "## Question 1 (40 points)\n",
        "Check the distribution of the text length in the data, build the simple RNN model and LSTM model with one layer, and two stacked layers, respectively and compare their performance. You may choose to pad or truncate the input sequence to be the number closest to 128, 256, 512, etc. You could train at most for 10 epochs if you find it takes much time."
      ],
      "metadata": {
        "id": "RwQIkdmQUuwZ"
      }
    },
    {
      "cell_type": "code",
      "source": [
        "# Import necessary libraries\n",
        "import matplotlib.pyplot as plt\n",
        "import seaborn as sns\n",
        "\n",
        "# Calculate the length of each text in characters for each split\n",
        "train_text_lengths = train_df['text'].apply(len)\n",
        "val_text_lengths = val_df['text'].apply(len)\n",
        "test_text_lengths = test_df['text'].apply(len)\n",
        "\n",
        "# Create a DataFrame for the lengths\n",
        "lengths_df = pd.DataFrame({\n",
        "    'train': train_text_lengths,\n",
        "    'validation': val_text_lengths,\n",
        "    'test': test_text_lengths\n",
        "})\n",
        "\n",
        "# Plot the distribution of text lengths\n",
        "plt.figure(figsize=(12, 6))\n",
        "sns.histplot(lengths_df['train'], label='Train', color='blue', kde=True)\n",
        "sns.histplot(lengths_df['validation'], label='Validation', color='green', kde=True)\n",
        "sns.histplot(lengths_df['test'], label='Test', color='red', kde=True)\n",
        "plt.title('Text Length Distribution in Characters')\n",
        "plt.xlabel('Text Length (characters)')\n",
        "plt.ylabel('Frequency')\n",
        "plt.legend()\n",
        "plt.show()\n"
      ],
      "metadata": {
        "colab": {
          "base_uri": "https://localhost:8080/",
          "height": 564
        },
        "id": "DlHYbHzOz5r0",
        "outputId": "0c8f3e12-4fe9-40b5-f585-2d88ba9d7abe"
      },
      "execution_count": 10,
      "outputs": [
        {
          "output_type": "display_data",
          "data": {
            "text/plain": [
              "<Figure size 1200x600 with 1 Axes>"
            ],
            "image/png": "[encoded data removed]"
          },
          "metadata": {}
        }
      ]
    },
    {
      "cell_type": "code",
      "source": [
        "# Install the necessary libraries if not already installed\n",
        "# !pip install datasets tensorflow\n",
        "\n",
        "import numpy as np\n",
        "import tensorflow as tf\n",
        "from tensorflow.keras.preprocessing.text import Tokenizer\n",
        "from tensorflow.keras.preprocessing.sequence import pad_sequences\n",
        "from sklearn.metrics import classification_report\n",
        "from datasets import load_dataset\n",
        "\n",
        "# Convert the dataset to pandas DataFrame\n",
        "train_df = emotion['train'].to_pandas()\n",
        "val_df = emotion['validation'].to_pandas()\n",
        "test_df = emotion['test'].to_pandas()\n",
        "\n",
        "# Tokenize the text\n",
        "tokenizer = Tokenizer()\n",
        "tokenizer.fit_on_texts(train_df['text'])\n",
        "\n",
        "# Convert text to sequences\n",
        "train_sequences = tokenizer.texts_to_sequences(train_df['text'])\n",
        "val_sequences = tokenizer.texts_to_sequences(val_df['text'])\n",
        "test_sequences = tokenizer.texts_to_sequences(test_df['text'])\n",
        "\n",
        "# Define the maximum sequence length\n",
        "max_sequence_length = 128\n",
        "\n",
        "# Pad or truncate sequences\n",
        "X_train = pad_sequences(train_sequences, maxlen=max_sequence_length)\n",
        "X_val = pad_sequences(val_sequences, maxlen=max_sequence_length)\n",
        "X_test = pad_sequences(test_sequences, maxlen=max_sequence_length)\n",
        "\n",
        "# Convert labels to numpy arrays\n",
        "y_train = train_df['label'].values\n",
        "y_val = val_df['label'].values\n",
        "y_test = test_df['label'].values\n",
        "\n",
        "# Define the number of classes\n",
        "num_classes = len(np.unique(y_train))\n",
        "\n",
        "# Build the LSTM model with one layer\n",
        "def build_lstm_model_1_layer(vocab_size, embedding_dim, input_length, num_classes):\n",
        "    model = tf.keras.Sequential([\n",
        "        tf.keras.layers.Embedding(vocab_size, embedding_dim, input_length=input_length),\n",
        "        tf.keras.layers.LSTM(128),\n",
        "        tf.keras.layers.Dense(num_classes, activation='softmax')\n",
        "    ])\n",
        "    model.compile(loss='sparse_categorical_crossentropy', optimizer='adam', metrics=['accuracy'])\n",
        "    return model\n",
        "\n",
        "# Build the LSTM model with two stacked layers\n",
        "def build_lstm_model_2_layers(vocab_size, embedding_dim, input_length, num_classes):\n",
        "    model = tf.keras.Sequential([\n",
        "        tf.keras.layers.Embedding(vocab_size, embedding_dim, input_length=input_length),\n",
        "        tf.keras.layers.LSTM(128, return_sequences=True),\n",
        "        tf.keras.layers.LSTM(128),\n",
        "        tf.keras.layers.Dense(num_classes, activation='softmax')\n",
        "    ])\n",
        "    model.compile(loss='sparse_categorical_crossentropy', optimizer='adam', metrics=['accuracy'])\n",
        "    return model\n",
        "\n",
        "# Define parameters\n",
        "vocab_size = len(tokenizer.word_index) + 1\n",
        "embedding_dim = 100\n",
        "\n",
        "# Train and evaluate the LSTM model with one layer\n",
        "model_1_layer = build_lstm_model_1_layer(vocab_size, embedding_dim, max_sequence_length, num_classes)\n",
        "history_1_layer = model_1_layer.fit(X_train, y_train, validation_data=(X_val, y_val), epochs=10, batch_size=64)\n",
        "\n",
        "# Train and evaluate the LSTM model with two stacked layers\n",
        "model_2_layers = build_lstm_model_2_layers(vocab_size, embedding_dim, max_sequence_length, num_classes)\n",
        "history_2_layers = model_2_layers.fit(X_train, y_train, validation_data=(X_val, y_val), epochs=10, batch_size=64)\n",
        "\n",
        "# Evaluate the models on the test set\n",
        "y_pred_1_layer = np.argmax(model_1_layer.predict(X_test), axis=-1)\n",
        "y_pred_2_layers = np.argmax(model_2_layers.predict(X_test), axis=-1)\n",
        "\n",
        "# Calculate and display classification report for both models\n",
        "report_1_layer = classification_report(y_test, y_pred_1_layer, target_names=emotion['train'].features['label'].names, output_dict=True)\n",
        "report_2_layers = classification_report(y_test, y_pred_2_layers, target_names=emotion['train'].features['label'].names, output_dict=True)\n",
        "\n",
        "print(\"Classification Report for LSTM Model with One Layer:\")\n",
        "print(classification_report(y_test, y_pred_1_layer, target_names=emotion['train'].features['label'].names))\n",
        "\n",
        "print(\"\\nClassification Report for LSTM Model with Two Stacked Layers:\")\n",
        "print(classification_report(y_test, y_pred_2_layers, target_names=emotion['train'].features['label'].names))\n",
        "\n",
        "# Extract and compare weighted average metrics\n",
        "weighted_avg_metrics_1_layer = report_1_layer['weighted avg']\n",
        "weighted_avg_metrics_2_layers = report_2_layers['weighted avg']\n",
        "\n",
        "print(f\"\\nWeighted Average Metrics for LSTM Model with One Layer: {weighted_avg_metrics_1_layer}\")\n",
        "print(f\"Weighted Average Metrics for LSTM Model with Two Stacked Layers: {weighted_avg_metrics_2_layers}\")\n",
        "\n",
        "# Extract and compare overall accuracy\n",
        "accuracy_1_layer = report_1_layer['accuracy']\n",
        "accuracy_2_layers = report_2_layers['accuracy']\n",
        "\n",
        "print(f\"\\nOverall Accuracy for LSTM Model with One Layer: {accuracy_1_layer}\")\n",
        "print(f\"Overall Accuracy for LSTM Model with Two Stacked Layers: {accuracy_2_layers}\")\n"
      ],
      "metadata": {
        "colab": {
          "base_uri": "https://localhost:8080/"
        },
        "id": "Y2SAHxEJz9mf",
        "outputId": "5d4724db-1919-4432-d882-e04b91c8207c"
      },
      "execution_count": 9,
      "outputs": [
        {
          "output_type": "stream",
          "name": "stdout",
          "text": [
            "Epoch 1/10\n",
            "250/250 [==============================] - 24s 90ms/step - loss: 1.2586 - accuracy: 0.5228 - val_loss: 0.7736 - val_accuracy: 0.7725\n",
            "Epoch 2/10\n",
            "250/250 [==============================] - 21s 86ms/step - loss: 0.3466 - accuracy: 0.8865 - val_loss: 0.3007 - val_accuracy: 0.8980\n",
            "Epoch 3/10\n",
            "250/250 [==============================] - 22s 86ms/step - loss: 0.1399 - accuracy: 0.9526 - val_loss: 0.2499 - val_accuracy: 0.9170\n",
            "Epoch 4/10\n",
            "250/250 [==============================] - 22s 86ms/step - loss: 0.0857 - accuracy: 0.9707 - val_loss: 0.2425 - val_accuracy: 0.9165\n",
            "Epoch 5/10\n",
            "250/250 [==============================] - 21s 85ms/step - loss: 0.0661 - accuracy: 0.9793 - val_loss: 0.3028 - val_accuracy: 0.9125\n",
            "Epoch 6/10\n",
            "250/250 [==============================] - 21s 86ms/step - loss: 0.0548 - accuracy: 0.9815 - val_loss: 0.2836 - val_accuracy: 0.9175\n",
            "Epoch 7/10\n",
            "250/250 [==============================] - 21s 86ms/step - loss: 0.0421 - accuracy: 0.9858 - val_loss: 0.2601 - val_accuracy: 0.9225\n",
            "Epoch 8/10\n",
            "250/250 [==============================] - 21s 86ms/step - loss: 0.0262 - accuracy: 0.9914 - val_loss: 0.2785 - val_accuracy: 0.9240\n",
            "Epoch 9/10\n",
            "250/250 [==============================] - 21s 86ms/step - loss: 0.0247 - accuracy: 0.9921 - val_loss: 0.2877 - val_accuracy: 0.9190\n",
            "Epoch 10/10\n",
            "250/250 [==============================] - 21s 86ms/step - loss: 0.0255 - accuracy: 0.9911 - val_loss: 0.2854 - val_accuracy: 0.9215\n",
            "Epoch 1/10\n",
            "250/250 [==============================] - 46s 172ms/step - loss: 1.1580 - accuracy: 0.5559 - val_loss: 0.5288 - val_accuracy: 0.8265\n",
            "Epoch 2/10\n",
            "250/250 [==============================] - 42s 170ms/step - loss: 0.2762 - accuracy: 0.9094 - val_loss: 0.2715 - val_accuracy: 0.9020\n",
            "Epoch 3/10\n",
            "250/250 [==============================] - 42s 168ms/step - loss: 0.1315 - accuracy: 0.9523 - val_loss: 0.2445 - val_accuracy: 0.9070\n",
            "Epoch 4/10\n",
            "250/250 [==============================] - 42s 169ms/step - loss: 0.0843 - accuracy: 0.9681 - val_loss: 0.2523 - val_accuracy: 0.9080\n",
            "Epoch 5/10\n",
            "250/250 [==============================] - 42s 169ms/step - loss: 0.0603 - accuracy: 0.9786 - val_loss: 0.2557 - val_accuracy: 0.9120\n",
            "Epoch 6/10\n",
            "250/250 [==============================] - 42s 168ms/step - loss: 0.0479 - accuracy: 0.9826 - val_loss: 0.3075 - val_accuracy: 0.9160\n",
            "Epoch 7/10\n",
            "250/250 [==============================] - 42s 169ms/step - loss: 0.0574 - accuracy: 0.9801 - val_loss: 0.2656 - val_accuracy: 0.9175\n",
            "Epoch 8/10\n",
            "250/250 [==============================] - 42s 169ms/step - loss: 0.0372 - accuracy: 0.9852 - val_loss: 0.2545 - val_accuracy: 0.9260\n",
            "Epoch 9/10\n",
            "250/250 [==============================] - 42s 169ms/step - loss: 0.0345 - accuracy: 0.9883 - val_loss: 0.2634 - val_accuracy: 0.9230\n",
            "Epoch 10/10\n",
            "250/250 [==============================] - 42s 169ms/step - loss: 0.0284 - accuracy: 0.9898 - val_loss: 0.2653 - val_accuracy: 0.9255\n",
            "63/63 [==============================] - 2s 22ms/step\n",
            "63/63 [==============================] - 3s 44ms/step\n",
            "Classification Report for LSTM Model with One Layer:\n",
            "              precision    recall  f1-score   support\n",
            "\n",
            "     sadness       0.96      0.96      0.96       581\n",
            "         joy       0.95      0.94      0.95       695\n",
            "        love       0.80      0.84      0.82       159\n",
            "       anger       0.92      0.89      0.91       275\n",
            "        fear       0.90      0.86      0.88       224\n",
            "    surprise       0.63      0.85      0.72        66\n",
            "\n",
            "    accuracy                           0.92      2000\n",
            "   macro avg       0.86      0.89      0.87      2000\n",
            "weighted avg       0.92      0.92      0.92      2000\n",
            "\n",
            "\n",
            "Classification Report for LSTM Model with Two Stacked Layers:\n",
            "              precision    recall  f1-score   support\n",
            "\n",
            "     sadness       0.96      0.95      0.96       581\n",
            "         joy       0.93      0.94      0.93       695\n",
            "        love       0.79      0.75      0.77       159\n",
            "       anger       0.93      0.90      0.91       275\n",
            "        fear       0.85      0.89      0.87       224\n",
            "    surprise       0.74      0.80      0.77        66\n",
            "\n",
            "    accuracy                           0.91      2000\n",
            "   macro avg       0.87      0.87      0.87      2000\n",
            "weighted avg       0.91      0.91      0.91      2000\n",
            "\n",
            "\n",
            "Weighted Average Metrics for LSTM Model with One Layer: {'precision': 0.9223333230197249, 'recall': 0.9185, 'f1-score': 0.9197363582159018, 'support': 2000}\n",
            "Weighted Average Metrics for LSTM Model with Two Stacked Layers: {'precision': 0.9125994344037214, 'recall': 0.912, 'f1-score': 0.9120694125817802, 'support': 2000}\n",
            "\n",
            "Overall Accuracy for LSTM Model with One Layer: 0.9185\n",
            "Overall Accuracy for LSTM Model with Two Stacked Layers: 0.912\n"
          ]
        }
      ]
    },
    {
      "cell_type": "code",
      "source": [
        "# Import necessary libraries\n",
        "import numpy as np\n",
        "import tensorflow as tf\n",
        "from tensorflow.keras.preprocessing.text import Tokenizer\n",
        "from tensorflow.keras.preprocessing.sequence import pad_sequences\n",
        "from sklearn.metrics import classification_report\n",
        "from datasets import load_dataset\n",
        "\n",
        "# Convert the dataset to pandas DataFrame\n",
        "train_df = emotion['train'].to_pandas()\n",
        "val_df = emotion['validation'].to_pandas()\n",
        "test_df = emotion['test'].to_pandas()\n",
        "\n",
        "# Tokenize the text\n",
        "tokenizer = Tokenizer()\n",
        "tokenizer.fit_on_texts(train_df['text'])\n",
        "\n",
        "# Convert text to sequences\n",
        "train_sequences = tokenizer.texts_to_sequences(train_df['text'])\n",
        "val_sequences = tokenizer.texts_to_sequences(val_df['text'])\n",
        "test_sequences = tokenizer.texts_to_sequences(test_df['text'])\n",
        "\n",
        "# Define the maximum sequence length\n",
        "max_sequence_length = 128\n",
        "\n",
        "# Pad or truncate sequences\n",
        "X_train = pad_sequences(train_sequences, maxlen=max_sequence_length)\n",
        "X_val = pad_sequences(val_sequences, maxlen=max_sequence_length)\n",
        "X_test = pad_sequences(test_sequences, maxlen=max_sequence_length)\n",
        "\n",
        "# Convert labels to numpy arrays\n",
        "y_train = train_df['label'].values\n",
        "y_val = val_df['label'].values\n",
        "y_test = test_df['label'].values\n",
        "\n",
        "# Define the number of classes\n",
        "num_classes = len(np.unique(y_train))\n",
        "\n",
        "# Build the RNN model with one layer\n",
        "def build_rnn_model_1_layer(vocab_size, embedding_dim, input_length, num_classes):\n",
        "    model = tf.keras.Sequential([\n",
        "        tf.keras.layers.Embedding(vocab_size, embedding_dim, input_length=input_length),\n",
        "        tf.keras.layers.SimpleRNN(128),\n",
        "        tf.keras.layers.Dense(num_classes, activation='softmax')\n",
        "    ])\n",
        "    model.compile(loss='sparse_categorical_crossentropy', optimizer='adam', metrics=['accuracy'])\n",
        "    return model\n",
        "\n",
        "# Build the RNN model with two stacked layers\n",
        "def build_rnn_model_2_layers(vocab_size, embedding_dim, input_length, num_classes):\n",
        "    model = tf.keras.Sequential([\n",
        "        tf.keras.layers.Embedding(vocab_size, embedding_dim, input_length=input_length),\n",
        "        tf.keras.layers.SimpleRNN(128, return_sequences=True),\n",
        "        tf.keras.layers.SimpleRNN(128),\n",
        "        tf.keras.layers.Dense(num_classes, activation='softmax')\n",
        "    ])\n",
        "    model.compile(loss='sparse_categorical_crossentropy', optimizer='adam', metrics=['accuracy'])\n",
        "    return model\n",
        "\n",
        "# Define parameters\n",
        "vocab_size = len(tokenizer.word_index) + 1\n",
        "embedding_dim = 100\n",
        "\n",
        "# Train and evaluate the RNN model with one layer\n",
        "model_1_layer = build_rnn_model_1_layer(vocab_size, embedding_dim, max_sequence_length, num_classes)\n",
        "history_1_layer = model_1_layer.fit(X_train, y_train, validation_data=(X_val, y_val), epochs=10, batch_size=64)\n",
        "\n",
        "# Train and evaluate the RNN model with two stacked layers\n",
        "model_2_layers = build_rnn_model_2_layers(vocab_size, embedding_dim, max_sequence_length, num_classes)\n",
        "history_2_layers = model_2_layers.fit(X_train, y_train, validation_data=(X_val, y_val), epochs=10, batch_size=64)\n",
        "\n",
        "# Evaluate the models on the test set\n",
        "y_pred_1_layer = np.argmax(model_1_layer.predict(X_test), axis=-1)\n",
        "y_pred_2_layers = np.argmax(model_2_layers.predict(X_test), axis=-1)\n",
        "\n",
        "# Calculate and display classification report for both models\n",
        "report_1_layer = classification_report(y_test, y_pred_1_layer, target_names=emotion['train'].features['label'].names, output_dict=True)\n",
        "report_2_layers = classification_report(y_test, y_pred_2_layers, target_names=emotion['train'].features['label'].names, output_dict=True)\n",
        "\n",
        "print(\"Classification Report for RNN Model with One Layer:\")\n",
        "print(classification_report(y_test, y_pred_1_layer, target_names=emotion['train'].features['label'].names))\n",
        "\n",
        "print(\"\\nClassification Report for RNN Model with Two Stacked Layers:\")\n",
        "print(classification_report(y_test, y_pred_2_layers, target_names=emotion['train'].features['label'].names))\n",
        "\n",
        "# Extract and compare weighted average metrics\n",
        "weighted_avg_metrics_1_layer = report_1_layer['weighted avg']\n",
        "weighted_avg_metrics_2_layers = report_2_layers['weighted avg']\n",
        "\n",
        "print(f\"\\nWeighted Average Metrics for RNN Model with One Layer: {weighted_avg_metrics_1_layer}\")\n",
        "print(f\"Weighted Average Metrics for RNN Model with Two Stacked Layers: {weighted_avg_metrics_2_layers}\")\n",
        "\n",
        "# Extract and compare overall accuracy\n",
        "accuracy_1_layer = report_1_layer['accuracy']\n",
        "accuracy_2_layers = report_2_layers['accuracy']\n",
        "\n",
        "print(f\"\\nOverall Accuracy for RNN Model with One Layer: {accuracy_1_layer}\")\n",
        "print(f\"Overall Accuracy for RNN Model with Two Stacked Layers: {accuracy_2_layers}\")\n"
      ],
      "metadata": {
        "colab": {
          "base_uri": "https://localhost:8080/"
        },
        "id": "N3uO0rOH0CI2",
        "outputId": "ea43c5e8-416a-4be4-9b15-3aa6309bb210"
      },
      "execution_count": 11,
      "outputs": [
        {
          "output_type": "stream",
          "name": "stdout",
          "text": [
            "Epoch 1/10\n",
            "250/250 [==============================] - 10s 34ms/step - loss: 1.5174 - accuracy: 0.3889 - val_loss: 1.3112 - val_accuracy: 0.5045\n",
            "Epoch 2/10\n",
            "250/250 [==============================] - 8s 34ms/step - loss: 0.7777 - accuracy: 0.7355 - val_loss: 0.7679 - val_accuracy: 0.7380\n",
            "Epoch 3/10\n",
            "250/250 [==============================] - 8s 33ms/step - loss: 0.2571 - accuracy: 0.9231 - val_loss: 0.7947 - val_accuracy: 0.7625\n",
            "Epoch 4/10\n",
            "250/250 [==============================] - 8s 33ms/step - loss: 0.8088 - accuracy: 0.7321 - val_loss: 1.2939 - val_accuracy: 0.6395\n",
            "Epoch 5/10\n",
            "250/250 [==============================] - 8s 34ms/step - loss: 0.5244 - accuracy: 0.8310 - val_loss: 0.9372 - val_accuracy: 0.7225\n",
            "Epoch 6/10\n",
            "250/250 [==============================] - 8s 34ms/step - loss: 0.6015 - accuracy: 0.7909 - val_loss: 1.0961 - val_accuracy: 0.6105\n",
            "Epoch 7/10\n",
            "250/250 [==============================] - 8s 33ms/step - loss: 0.2523 - accuracy: 0.9213 - val_loss: 0.9909 - val_accuracy: 0.7305\n",
            "Epoch 8/10\n",
            "250/250 [==============================] - 8s 33ms/step - loss: 0.1182 - accuracy: 0.9647 - val_loss: 1.1127 - val_accuracy: 0.7105\n",
            "Epoch 9/10\n",
            "250/250 [==============================] - 8s 33ms/step - loss: 0.1382 - accuracy: 0.9549 - val_loss: 1.0060 - val_accuracy: 0.7410\n",
            "Epoch 10/10\n",
            "250/250 [==============================] - 8s 33ms/step - loss: 0.0914 - accuracy: 0.9739 - val_loss: 1.0938 - val_accuracy: 0.7295\n",
            "Epoch 1/10\n",
            "250/250 [==============================] - 17s 63ms/step - loss: 1.5936 - accuracy: 0.3340 - val_loss: 1.5722 - val_accuracy: 0.3345\n",
            "Epoch 2/10\n",
            "250/250 [==============================] - 16s 62ms/step - loss: 1.3224 - accuracy: 0.5126 - val_loss: 1.1196 - val_accuracy: 0.5965\n",
            "Epoch 3/10\n",
            "250/250 [==============================] - 16s 63ms/step - loss: 0.4652 - accuracy: 0.8449 - val_loss: 0.7268 - val_accuracy: 0.7565\n",
            "Epoch 4/10\n",
            "250/250 [==============================] - 15s 62ms/step - loss: 0.1166 - accuracy: 0.9686 - val_loss: 0.7288 - val_accuracy: 0.7815\n",
            "Epoch 5/10\n",
            "250/250 [==============================] - 16s 62ms/step - loss: 0.0435 - accuracy: 0.9905 - val_loss: 0.6934 - val_accuracy: 0.7920\n",
            "Epoch 6/10\n",
            "250/250 [==============================] - 16s 63ms/step - loss: 0.0249 - accuracy: 0.9949 - val_loss: 0.7958 - val_accuracy: 0.7820\n",
            "Epoch 7/10\n",
            "250/250 [==============================] - 15s 62ms/step - loss: 0.0194 - accuracy: 0.9959 - val_loss: 0.7817 - val_accuracy: 0.7935\n",
            "Epoch 8/10\n",
            "250/250 [==============================] - 16s 62ms/step - loss: 0.0159 - accuracy: 0.9962 - val_loss: 0.7924 - val_accuracy: 0.7940\n",
            "Epoch 9/10\n",
            "250/250 [==============================] - 16s 63ms/step - loss: 0.0133 - accuracy: 0.9967 - val_loss: 0.9020 - val_accuracy: 0.7820\n",
            "Epoch 10/10\n",
            "250/250 [==============================] - 16s 62ms/step - loss: 0.0138 - accuracy: 0.9964 - val_loss: 0.9078 - val_accuracy: 0.7750\n",
            "63/63 [==============================] - 1s 8ms/step\n",
            "63/63 [==============================] - 1s 14ms/step\n",
            "Classification Report for RNN Model with One Layer:\n",
            "              precision    recall  f1-score   support\n",
            "\n",
            "     sadness       0.86      0.88      0.87       581\n",
            "         joy       0.78      0.86      0.82       695\n",
            "        love       0.52      0.40      0.45       159\n",
            "       anger       0.72      0.59      0.65       275\n",
            "        fear       0.55      0.53      0.54       224\n",
            "    surprise       0.24      0.30      0.27        66\n",
            "\n",
            "    accuracy                           0.74      2000\n",
            "   macro avg       0.61      0.59      0.60      2000\n",
            "weighted avg       0.73      0.74      0.73      2000\n",
            "\n",
            "\n",
            "Classification Report for RNN Model with Two Stacked Layers:\n",
            "              precision    recall  f1-score   support\n",
            "\n",
            "     sadness       0.84      0.85      0.84       581\n",
            "         joy       0.82      0.85      0.83       695\n",
            "        love       0.54      0.55      0.55       159\n",
            "       anger       0.77      0.71      0.74       275\n",
            "        fear       0.72      0.70      0.71       224\n",
            "    surprise       0.52      0.47      0.49        66\n",
            "\n",
            "    accuracy                           0.78      2000\n",
            "   macro avg       0.70      0.69      0.69      2000\n",
            "weighted avg       0.78      0.78      0.78      2000\n",
            "\n",
            "\n",
            "Weighted Average Metrics for RNN Model with One Layer: {'precision': 0.7321853740350374, 'recall': 0.7355, 'f1-score': 0.7313383409510775, 'support': 2000}\n",
            "Weighted Average Metrics for RNN Model with Two Stacked Layers: {'precision': 0.776011597263354, 'recall': 0.7775, 'f1-score': 0.776455897512547, 'support': 2000}\n",
            "\n",
            "Overall Accuracy for RNN Model with One Layer: 0.7355\n",
            "Overall Accuracy for RNN Model with Two Stacked Layers: 0.7775\n"
          ]
        }
      ]
    },
    {
      "cell_type": "markdown",
      "source": [
        "We can see that the LSTM with an weighted avg accuracy of 0.92 was the best model. Which we can see is that sadness is the easiest for the models to recognized followed by joy."
      ],
      "metadata": {
        "id": "6KDu4ywRFFHr"
      }
    },
    {
      "cell_type": "markdown",
      "source": [
        "## Question 2 (30 points)\n",
        "\n",
        "Now download the pretrained word embedding models from Gensim library with different embedding size 'glove-twitter-25', 'glove-twitter-50', 'glove-twitter-100', 'glove-twitter-200'. Show the most similar words for `anger, fear, joy, love, sadness, and surprise`. Use the best performing model from the Quesetion 1 and replace the embedding layer with pretrained word embeddings with different embedding size. Explain whether these pretrained embedding would imporve the model performance.\n"
      ],
      "metadata": {
        "id": "szJH-jTfXUKt"
      }
    },
    {
      "cell_type": "code",
      "source": [
        "import gensim.downloader\n",
        "# Show all available models in gensim-data\n",
        "print(list(gensim.downloader.info()['models'].keys()))"
      ],
      "metadata": {
        "colab": {
          "base_uri": "https://localhost:8080/"
        },
        "id": "ERgdWEg-aBo6",
        "outputId": "415c4b32-10d6-45a5-fc97-bdf9b54367c4"
      },
      "execution_count": 12,
      "outputs": [
        {
          "output_type": "stream",
          "name": "stdout",
          "text": [
            "['fasttext-wiki-news-subwords-300', 'conceptnet-numberbatch-17-06-300', 'word2vec-ruscorpora-300', 'word2vec-google-news-300', 'glove-wiki-gigaword-50', 'glove-wiki-gigaword-100', 'glove-wiki-gigaword-200', 'glove-wiki-gigaword-300', 'glove-twitter-25', 'glove-twitter-50', 'glove-twitter-100', 'glove-twitter-200', '__testing_word2vec-matrix-synopsis']\n"
          ]
        }
      ]
    },
    {
      "cell_type": "code",
      "source": [
        "# Load GloVe models from the Twitter corpus with different embedding dimensions\n",
        "glove_models = {\n",
        "    '25': api.load('glove-twitter-25'),\n",
        "    '50': api.load('glove-twitter-50'),\n",
        "    '100': api.load('glove-twitter-100'),\n",
        "    '200': api.load('glove-twitter-200')\n",
        "}\n",
        "\n",
        "# List of emotions to find similar words for\n",
        "emotions = ['anger', 'fear', 'joy', 'love', 'sadness', 'surprise']\n",
        "\n",
        "# Create a dictionary to store similar words for each emotion at different embedding sizes\n",
        "similar_words = {\n",
        "    size: {emotion: model.most_similar(emotion, topn=5) for emotion in emotions}\n",
        "    for size, model in glove_models.items()\n",
        "}\n",
        "\n",
        "# Print the most similar words for each emotion and embedding size\n",
        "for size, words in similar_words.items():\n",
        "    print(f\"Embedding Size: {size}\")\n",
        "    for emotion, similarities in words.items():\n",
        "        print(f\"{emotion.capitalize()}: {similarities}\")\n",
        "    print(\"\\n\")\n"
      ],
      "metadata": {
        "id": "aA1-fGxeM3j6",
        "outputId": "98dad3d8-036d-4835-eec3-b854674a5371",
        "colab": {
          "base_uri": "https://localhost:8080/"
        }
      },
      "execution_count": 32,
      "outputs": [
        {
          "output_type": "stream",
          "name": "stdout",
          "text": [
            "Embedding Size: 25\n",
            "Anger: [('fear', 0.9505937695503235), ('frustration', 0.9350658059120178), ('emotions', 0.9121993780136108), ('pain', 0.9061965346336365), ('emotion', 0.9021011590957642)]\n",
            "Fear: [('anger', 0.9505937695503235), ('enemy', 0.9229838252067566), ('afraid', 0.9117358922958374), ('destroy', 0.9105901122093201), ('fears', 0.9076415300369263)]\n",
            "Joy: [('dreams', 0.9211523532867432), ('faith', 0.9142656922340393), ('grace', 0.9103144407272339), ('happiness', 0.908566415309906), ('spirit', 0.9064580202102661)]\n",
            "Love: [('you', 0.9448828101158142), ('baby', 0.9425430297851562), ('dream', 0.9267040491104126), ('miss', 0.9246909022331238), ('much', 0.9215252995491028)]\n",
            "Sadness: [('heartbreak', 0.9222661852836609), ('laughter', 0.9163241982460022), ('sorrow', 0.916123628616333), ('heartache', 0.9138960242271423), ('misery', 0.9085743427276611)]\n",
            "Surprise: [('date', 0.8957765102386475), ('valentine', 0.8720001578330994), ('present', 0.8664577603340149), ('minute', 0.8637888431549072), ('moment', 0.8591768741607666)]\n",
            "\n",
            "\n",
            "Embedding Size: 50\n",
            "Anger: [('frustration', 0.8830164670944214), ('emotions', 0.877469003200531), ('hatred', 0.8407762050628662), ('sadness', 0.8311313390731812), ('jealousy', 0.8253424167633057)]\n",
            "Fear: [('afraid', 0.8469363451004028), ('lies', 0.8379500508308411), ('enemy', 0.8315165042877197), ('suffer', 0.825804591178894), ('anger', 0.8236812949180603)]\n",
            "Joy: [('happiness', 0.8539538979530334), ('dreams', 0.8201802372932434), ('grace', 0.806630551815033), ('heaven', 0.799086332321167), ('faith', 0.7959513664245605)]\n",
            "Love: [('you', 0.9186254739761353), ('much', 0.888148844242096), ('miss', 0.8814238905906677), ('loves', 0.8751672506332397), ('happy', 0.8704721331596375)]\n",
            "Sadness: [('misery', 0.8340350389480591), ('anger', 0.8311312794685364), ('sorrow', 0.8239659070968628), ('happiness', 0.8153049945831299), ('confusion', 0.7972285747528076)]\n",
            "Surprise: [('valentine', 0.8059753775596619), ('special', 0.7991830706596375), ('present', 0.7899552583694458), ('suprise', 0.7858572006225586), ('moment', 0.7612249851226807)]\n",
            "\n",
            "\n",
            "Embedding Size: 100\n",
            "Anger: [('frustration', 0.7996562123298645), ('hatred', 0.7687686681747437), ('jealousy', 0.7275987863540649), ('emotions', 0.7239761352539062), ('fear', 0.7184318900108337)]\n",
            "Fear: [('afraid', 0.7873706817626953), ('fears', 0.7304458618164062), ('enemy', 0.7248128056526184), ('faith', 0.7207340598106384), ('anger', 0.7184319496154785)]\n",
            "Joy: [('happiness', 0.7726642489433289), ('grace', 0.7495993971824646), ('pleasure', 0.6993120908737183), ('sorrow', 0.6896252632141113), ('spirit', 0.6876362562179565)]\n",
            "Love: [('you', 0.8800906538963318), ('much', 0.8381997346878052), ('and', 0.8109884858131409), ('my', 0.8090654015541077), ('loves', 0.8008188605308533)]\n",
            "Sadness: [('sorrow', 0.7344144582748413), ('happiness', 0.7242614030838013), ('anger', 0.7027779817581177), ('tears', 0.6939469575881958), ('frustration', 0.6903930306434631)]\n",
            "Surprise: [('suprise', 0.7736054062843323), ('special', 0.7381727695465088), ('valentine', 0.7021726965904236), ('present', 0.6987568736076355), ('surprises', 0.653791606426239)]\n",
            "\n",
            "\n",
            "Embedding Size: 200\n",
            "Anger: [('frustration', 0.6973162293434143), ('hatred', 0.6840542554855347), ('sadness', 0.6156896948814392), ('emotions', 0.6151420474052429), ('jealousy', 0.6071767210960388)]\n",
            "Fear: [('afraid', 0.699883759021759), ('fears', 0.6846092939376831), ('faith', 0.6261285543441772), ('doubt', 0.6196566224098206), ('scared', 0.6167082786560059)]\n",
            "Joy: [('happiness', 0.7061294317245483), ('grace', 0.6718106865882874), ('pleasure', 0.6118931770324707), ('spirit', 0.6017150282859802), ('brings', 0.5974916815757751)]\n",
            "Love: [('you', 0.8460860252380371), ('much', 0.7890045642852783), ('always', 0.7601684331893921), ('know', 0.7598055005073547), ('my', 0.7519949674606323)]\n",
            "Sadness: [('happiness', 0.6751736998558044), ('pain', 0.6415565609931946), ('sorrow', 0.624535858631134), ('anger', 0.6156896948814392), ('loneliness', 0.5990911722183228)]\n",
            "Surprise: [('suprise', 0.7737093567848206), ('surprises', 0.6544164419174194), ('special', 0.6543086767196655), ('present', 0.6079214811325073), ('valentine', 0.59759521484375)]\n",
            "\n",
            "\n"
          ]
        }
      ]
    },
    {
      "cell_type": "code",
      "source": [
        "# Import necessary libraries\n",
        "import numpy as np\n",
        "import tensorflow as tf\n",
        "from tensorflow.keras.layers import Embedding, LSTM, Dense\n",
        "from tensorflow.keras.models import Sequential\n",
        "import gensim.downloader as api\n",
        "from tensorflow.keras.preprocessing.text import Tokenizer\n",
        "from tensorflow.keras.preprocessing.sequence import pad_sequences\n",
        "from sklearn.metrics import classification_report\n",
        "from datasets import load_dataset\n",
        "\n",
        "# Load the emotion dataset\n",
        "emotion = load_dataset('emotion')\n",
        "\n",
        "# Define the GloVe Twitter models to be used\n",
        "glove_models = ['glove-twitter-25', 'glove-twitter-50', 'glove-twitter-100', 'glove-twitter-200']\n",
        "\n",
        "# Set the maximum number of features and the maximum length of sequences\n",
        "max_features = 10000\n",
        "maxlen = 66\n",
        "train_texts = [example['text'] for example in emotion['train']]\n",
        "\n",
        "# Example sequences and labels (replace with your actual data)\n",
        "X_train = emotion['train'].to_pandas()['text']\n",
        "y_train = emotion['train'].to_pandas()['label']\n",
        "X_val = emotion['validation'].to_pandas()['text']\n",
        "y_val = emotion['validation'].to_pandas()['label']\n",
        "X_test = emotion['test'].to_pandas()['text']\n",
        "y_test = emotion['test'].to_pandas()['label']\n",
        "\n",
        "# Tokenize the training texts\n",
        "tokenizer = Tokenizer(num_words=max_features)\n",
        "tokenizer.fit_on_texts(train_texts)\n",
        "\n",
        "# Tokenize and pad the sequences\n",
        "X_train_sequences = tokenizer.texts_to_sequences(X_train)\n",
        "X_val_sequences = tokenizer.texts_to_sequences(X_val)\n",
        "X_test_sequences = tokenizer.texts_to_sequences(X_test)\n",
        "X_train_padded = pad_sequences(X_train_sequences, maxlen=maxlen)\n",
        "X_val_padded = pad_sequences(X_val_sequences, maxlen=maxlen)\n",
        "X_test_padded = pad_sequences(X_test_sequences, maxlen=maxlen)\n",
        "\n",
        "for model_name in glove_models:\n",
        "    print(f\"Training model with {model_name} embeddings...\")\n",
        "\n",
        "    # Load the GloVe Twitter model\n",
        "    glove_twitter = api.load(model_name)\n",
        "\n",
        "    # Determine the embedding dimension from the model name\n",
        "    embedding_dim = int(model_name.split('-')[-1])\n",
        "\n",
        "    # Initialize the embedding matrix with zeros\n",
        "    embedding_matrix = np.zeros((max_features, embedding_dim))\n",
        "\n",
        "    # Populate the embedding matrix with GloVe embeddings\n",
        "    for word, index in tokenizer.word_index.items():\n",
        "        if index < max_features:\n",
        "            if word in glove_twitter:\n",
        "                embedding_vector = glove_twitter[word]\n",
        "                embedding_matrix[index] = embedding_vector\n",
        "\n",
        "    # Create an embedding layer with pre-trained GloVe weights\n",
        "    pretrained_embedding_layer = Embedding(input_dim=max_features,\n",
        "                                           output_dim=embedding_dim,\n",
        "                                           weights=[embedding_matrix],\n",
        "                                           input_length=maxlen,\n",
        "                                           trainable=False)\n",
        "\n",
        "    # Build the LSTM model using the pre-trained embedding layer\n",
        "    model_lstm_pretrained = Sequential([\n",
        "        pretrained_embedding_layer,\n",
        "        LSTM(64),\n",
        "        Dense(6, activation='softmax')\n",
        "    ])\n",
        "\n",
        "    # Compile the LSTM model with Adam optimizer and sparse categorical cross-entropy loss\n",
        "    model_lstm_pretrained.compile(optimizer='adam',\n",
        "                                  loss='sparse_categorical_crossentropy',\n",
        "                                  metrics=['accuracy'])\n",
        "\n",
        "    # Train the LSTM model\n",
        "    history = model_lstm_pretrained.fit(\n",
        "        X_train_padded, y_train,\n",
        "        epochs=10,\n",
        "        validation_data=(X_val_padded, y_val),\n",
        "        batch_size=64\n",
        "    )\n",
        "\n",
        "    # Evaluate the model on the test data\n",
        "    test_loss, test_accuracy = model_lstm_pretrained.evaluate(X_test_padded, y_test)\n",
        "    print(f\"Test Accuracy for {model_name}: {test_accuracy}\")\n",
        "\n",
        "    # Predict the labels for the test set\n",
        "    y_pred = model_lstm_pretrained.predict(X_test_padded)\n",
        "    y_pred_classes = np.argmax(y_pred, axis=1)\n",
        "\n",
        "    # Generate the classification report\n",
        "    target_names = ['sadness', 'joy', 'love', 'anger', 'fear', 'surprise']\n",
        "    report = classification_report(y_test, y_pred_classes, target_names=target_names, output_dict=False)\n",
        "\n",
        "    # Print the classification report\n",
        "    print(f\"Classification Report for LSTM Model with {model_name} Embeddings:\")\n",
        "    print(report)\n",
        "    print(\"\\n\" + \"=\"*80 + \"\\n\")\n"
      ],
      "metadata": {
        "colab": {
          "base_uri": "https://localhost:8080/"
        },
        "id": "KHOogEu1HDZw",
        "outputId": "6867e7bd-6d0e-4f16-8118-d563e90b3e35"
      },
      "execution_count": 31,
      "outputs": [
        {
          "output_type": "stream",
          "name": "stderr",
          "text": [
            "/usr/local/lib/python3.10/dist-packages/datasets/load.py:1486: FutureWarning: The repository for emotion contains custom code which must be executed to correctly load the dataset. You can inspect the repository content at https://hf.co/datasets/emotion\n",
            "You can avoid this message in future by passing the argument `trust_remote_code=True`.\n",
            "Passing `trust_remote_code=True` will be mandatory to load this dataset from the next major release of `datasets`.\n",
            "  warnings.warn(\n"
          ]
        },
        {
          "output_type": "stream",
          "name": "stdout",
          "text": [
            "Training model with glove-twitter-25 embeddings...\n",
            "Epoch 1/10\n",
            "250/250 [==============================] - 8s 27ms/step - loss: 1.4653 - accuracy: 0.4381 - val_loss: 1.4038 - val_accuracy: 0.4650\n",
            "Epoch 2/10\n",
            "250/250 [==============================] - 6s 26ms/step - loss: 1.3022 - accuracy: 0.5008 - val_loss: 1.2143 - val_accuracy: 0.5270\n",
            "Epoch 3/10\n",
            "250/250 [==============================] - 6s 26ms/step - loss: 1.1798 - accuracy: 0.5408 - val_loss: 1.1214 - val_accuracy: 0.5665\n",
            "Epoch 4/10\n",
            "250/250 [==============================] - 6s 25ms/step - loss: 1.0801 - accuracy: 0.5806 - val_loss: 1.0234 - val_accuracy: 0.5960\n",
            "Epoch 5/10\n",
            "250/250 [==============================] - 6s 26ms/step - loss: 1.0037 - accuracy: 0.6093 - val_loss: 0.9819 - val_accuracy: 0.6245\n",
            "Epoch 6/10\n",
            "250/250 [==============================] - 6s 25ms/step - loss: 0.9373 - accuracy: 0.6346 - val_loss: 0.9194 - val_accuracy: 0.6350\n",
            "Epoch 7/10\n",
            "250/250 [==============================] - 6s 26ms/step - loss: 0.8841 - accuracy: 0.6553 - val_loss: 0.8589 - val_accuracy: 0.6600\n",
            "Epoch 8/10\n",
            "250/250 [==============================] - 6s 26ms/step - loss: 0.8212 - accuracy: 0.6806 - val_loss: 0.8359 - val_accuracy: 0.6715\n",
            "Epoch 9/10\n",
            "250/250 [==============================] - 6s 25ms/step - loss: 0.7736 - accuracy: 0.7046 - val_loss: 0.7735 - val_accuracy: 0.7060\n",
            "Epoch 10/10\n",
            "250/250 [==============================] - 6s 25ms/step - loss: 0.7278 - accuracy: 0.7224 - val_loss: 0.7479 - val_accuracy: 0.7230\n",
            "63/63 [==============================] - 1s 8ms/step - loss: 0.7590 - accuracy: 0.7115\n",
            "Test Accuracy for glove-twitter-25: 0.7114999890327454\n",
            "63/63 [==============================] - 1s 8ms/step\n",
            "Classification Report for LSTM Model with glove-twitter-25 Embeddings:\n",
            "              precision    recall  f1-score   support\n",
            "\n",
            "     sadness       0.69      0.80      0.74       581\n",
            "         joy       0.82      0.81      0.81       695\n",
            "        love       0.61      0.53      0.57       159\n",
            "       anger       0.63      0.54      0.58       275\n",
            "        fear       0.66      0.64      0.65       224\n",
            "    surprise       0.43      0.32      0.37        66\n",
            "\n",
            "    accuracy                           0.71      2000\n",
            "   macro avg       0.64      0.61      0.62      2000\n",
            "weighted avg       0.71      0.71      0.71      2000\n",
            "\n",
            "\n",
            "================================================================================\n",
            "\n",
            "Training model with glove-twitter-50 embeddings...\n",
            "Epoch 1/10\n",
            "250/250 [==============================] - 8s 28ms/step - loss: 1.3971 - accuracy: 0.4683 - val_loss: 1.2708 - val_accuracy: 0.5115\n",
            "Epoch 2/10\n",
            "250/250 [==============================] - 6s 25ms/step - loss: 1.1370 - accuracy: 0.5710 - val_loss: 1.0561 - val_accuracy: 0.6070\n",
            "Epoch 3/10\n",
            "250/250 [==============================] - 6s 26ms/step - loss: 0.9593 - accuracy: 0.6467 - val_loss: 0.8976 - val_accuracy: 0.6665\n",
            "Epoch 4/10\n",
            "250/250 [==============================] - 6s 25ms/step - loss: 0.8281 - accuracy: 0.6955 - val_loss: 0.8181 - val_accuracy: 0.6935\n",
            "Epoch 5/10\n",
            "250/250 [==============================] - 6s 26ms/step - loss: 0.7232 - accuracy: 0.7348 - val_loss: 0.6953 - val_accuracy: 0.7360\n",
            "Epoch 6/10\n",
            "250/250 [==============================] - 6s 25ms/step - loss: 0.6405 - accuracy: 0.7669 - val_loss: 0.6554 - val_accuracy: 0.7550\n",
            "Epoch 7/10\n",
            "250/250 [==============================] - 6s 26ms/step - loss: 0.5598 - accuracy: 0.7951 - val_loss: 0.5702 - val_accuracy: 0.7865\n",
            "Epoch 8/10\n",
            "250/250 [==============================] - 6s 26ms/step - loss: 0.4889 - accuracy: 0.8242 - val_loss: 0.5392 - val_accuracy: 0.8030\n",
            "Epoch 9/10\n",
            "250/250 [==============================] - 6s 25ms/step - loss: 0.4364 - accuracy: 0.8426 - val_loss: 0.5114 - val_accuracy: 0.8190\n",
            "Epoch 10/10\n",
            "250/250 [==============================] - 6s 26ms/step - loss: 0.3847 - accuracy: 0.8659 - val_loss: 0.4635 - val_accuracy: 0.8335\n",
            "63/63 [==============================] - 1s 8ms/step - loss: 0.4843 - accuracy: 0.8165\n",
            "Test Accuracy for glove-twitter-50: 0.8165000081062317\n",
            "63/63 [==============================] - 1s 8ms/step\n",
            "Classification Report for LSTM Model with glove-twitter-50 Embeddings:\n",
            "              precision    recall  f1-score   support\n",
            "\n",
            "     sadness       0.86      0.85      0.86       581\n",
            "         joy       0.78      0.94      0.85       695\n",
            "        love       0.72      0.45      0.56       159\n",
            "       anger       0.92      0.72      0.80       275\n",
            "        fear       0.87      0.79      0.83       224\n",
            "    surprise       0.59      0.59      0.59        66\n",
            "\n",
            "    accuracy                           0.82      2000\n",
            "   macro avg       0.79      0.72      0.75      2000\n",
            "weighted avg       0.82      0.82      0.81      2000\n",
            "\n",
            "\n",
            "================================================================================\n",
            "\n",
            "Training model with glove-twitter-100 embeddings...\n",
            "Epoch 1/10\n",
            "250/250 [==============================] - 9s 28ms/step - loss: 1.3213 - accuracy: 0.5044 - val_loss: 1.0438 - val_accuracy: 0.6200\n",
            "Epoch 2/10\n",
            "250/250 [==============================] - 6s 26ms/step - loss: 0.8875 - accuracy: 0.6747 - val_loss: 0.7353 - val_accuracy: 0.7275\n",
            "Epoch 3/10\n",
            "250/250 [==============================] - 6s 26ms/step - loss: 0.6310 - accuracy: 0.7749 - val_loss: 0.5281 - val_accuracy: 0.8145\n",
            "Epoch 4/10\n",
            "250/250 [==============================] - 6s 26ms/step - loss: 0.4708 - accuracy: 0.8309 - val_loss: 0.4518 - val_accuracy: 0.8425\n",
            "Epoch 5/10\n",
            "250/250 [==============================] - 7s 26ms/step - loss: 0.3709 - accuracy: 0.8677 - val_loss: 0.3645 - val_accuracy: 0.8715\n",
            "Epoch 6/10\n",
            "250/250 [==============================] - 6s 26ms/step - loss: 0.3047 - accuracy: 0.8913 - val_loss: 0.3012 - val_accuracy: 0.8945\n",
            "Epoch 7/10\n",
            "250/250 [==============================] - 6s 26ms/step - loss: 0.2511 - accuracy: 0.9068 - val_loss: 0.2744 - val_accuracy: 0.9065\n",
            "Epoch 8/10\n",
            "250/250 [==============================] - 6s 26ms/step - loss: 0.2140 - accuracy: 0.9237 - val_loss: 0.2693 - val_accuracy: 0.9000\n",
            "Epoch 9/10\n",
            "250/250 [==============================] - 7s 26ms/step - loss: 0.1844 - accuracy: 0.9323 - val_loss: 0.2322 - val_accuracy: 0.9165\n",
            "Epoch 10/10\n",
            "250/250 [==============================] - 6s 26ms/step - loss: 0.1651 - accuracy: 0.9386 - val_loss: 0.2675 - val_accuracy: 0.9005\n",
            "63/63 [==============================] - 1s 8ms/step - loss: 0.2740 - accuracy: 0.8990\n",
            "Test Accuracy for glove-twitter-100: 0.8989999890327454\n",
            "63/63 [==============================] - 1s 8ms/step\n",
            "Classification Report for LSTM Model with glove-twitter-100 Embeddings:\n",
            "              precision    recall  f1-score   support\n",
            "\n",
            "     sadness       0.93      0.95      0.94       581\n",
            "         joy       0.94      0.90      0.92       695\n",
            "        love       0.73      0.88      0.80       159\n",
            "       anger       0.94      0.86      0.90       275\n",
            "        fear       0.83      0.93      0.87       224\n",
            "    surprise       0.88      0.58      0.70        66\n",
            "\n",
            "    accuracy                           0.90      2000\n",
            "   macro avg       0.87      0.85      0.85      2000\n",
            "weighted avg       0.90      0.90      0.90      2000\n",
            "\n",
            "\n",
            "================================================================================\n",
            "\n",
            "Training model with glove-twitter-200 embeddings...\n",
            "Epoch 1/10\n",
            "250/250 [==============================] - 9s 30ms/step - loss: 1.2405 - accuracy: 0.5399 - val_loss: 0.8856 - val_accuracy: 0.6750\n",
            "Epoch 2/10\n",
            "250/250 [==============================] - 7s 28ms/step - loss: 0.6568 - accuracy: 0.7744 - val_loss: 0.4819 - val_accuracy: 0.8455\n",
            "Epoch 3/10\n",
            "250/250 [==============================] - 7s 27ms/step - loss: 0.3984 - accuracy: 0.8656 - val_loss: 0.3511 - val_accuracy: 0.8865\n",
            "Epoch 4/10\n",
            "250/250 [==============================] - 7s 27ms/step - loss: 0.2801 - accuracy: 0.9034 - val_loss: 0.2893 - val_accuracy: 0.9065\n",
            "Epoch 5/10\n",
            "250/250 [==============================] - 7s 27ms/step - loss: 0.2085 - accuracy: 0.9242 - val_loss: 0.2696 - val_accuracy: 0.9055\n",
            "Epoch 6/10\n",
            "250/250 [==============================] - 7s 27ms/step - loss: 0.1668 - accuracy: 0.9387 - val_loss: 0.2206 - val_accuracy: 0.9185\n",
            "Epoch 7/10\n",
            "250/250 [==============================] - 7s 27ms/step - loss: 0.1530 - accuracy: 0.9410 - val_loss: 0.2436 - val_accuracy: 0.9075\n",
            "Epoch 8/10\n",
            "250/250 [==============================] - 7s 27ms/step - loss: 0.1255 - accuracy: 0.9530 - val_loss: 0.2315 - val_accuracy: 0.9145\n",
            "Epoch 9/10\n",
            "250/250 [==============================] - 7s 27ms/step - loss: 0.1032 - accuracy: 0.9593 - val_loss: 0.1991 - val_accuracy: 0.9290\n",
            "Epoch 10/10\n",
            "250/250 [==============================] - 7s 27ms/step - loss: 0.0960 - accuracy: 0.9613 - val_loss: 0.2085 - val_accuracy: 0.9270\n",
            "63/63 [==============================] - 1s 9ms/step - loss: 0.2221 - accuracy: 0.9050\n",
            "Test Accuracy for glove-twitter-200: 0.9049999713897705\n",
            "63/63 [==============================] - 1s 9ms/step\n",
            "Classification Report for LSTM Model with glove-twitter-200 Embeddings:\n",
            "              precision    recall  f1-score   support\n",
            "\n",
            "     sadness       0.94      0.95      0.94       581\n",
            "         joy       0.91      0.94      0.93       695\n",
            "        love       0.78      0.77      0.78       159\n",
            "       anger       0.94      0.86      0.90       275\n",
            "        fear       0.88      0.90      0.89       224\n",
            "    surprise       0.76      0.64      0.69        66\n",
            "\n",
            "    accuracy                           0.91      2000\n",
            "   macro avg       0.87      0.84      0.86      2000\n",
            "weighted avg       0.90      0.91      0.90      2000\n",
            "\n",
            "\n",
            "================================================================================\n",
            "\n"
          ]
        }
      ]
    },
    {
      "cell_type": "markdown",
      "source": [
        "The best model before was the LSTM model with one layer. This model could not be improved by pretrained embedding."
      ],
      "metadata": {
        "id": "8kLU9BtwNJkp"
      }
    },
    {
      "cell_type": "markdown",
      "source": [
        "We can see, that"
      ],
      "metadata": {
        "id": "CRRnPLdtMWtH"
      }
    },
    {
      "cell_type": "markdown",
      "source": [
        "## Question 3 (20 points)\n",
        "\n",
        "Now load BERT models from TensorFlow Hub. Fine-tune it with the data and evaluate the model performance. Check how you can do it [here](https://www.tensorflow.org/text/tutorials/classify_text_with_bert)"
      ],
      "metadata": {
        "id": "GqSovkb5a7D9"
      }
    },
    {
      "cell_type": "code",
      "source": [
        "import tensorflow_hub as hub\n",
        "import tensorflow as tf\n",
        "import tensorflow_text as text  # Add this line\n",
        "from datasets import load_dataset\n",
        "import numpy as np\n",
        "from sklearn.metrics import accuracy_score, classification_report\n",
        "\n",
        "# Load the emotion dataset\n",
        "emotion = load_dataset('emotion')\n",
        "\n",
        "# Extract texts and labels from the dataset\n",
        "train_texts = [example['text'] for example in emotion['train']]\n",
        "train_labels = [example['label'] for example in emotion['train']]\n",
        "val_texts = [example['text'] for example in emotion['validation']]\n",
        "val_labels = [example['label'] for example in emotion['validation']]\n",
        "test_texts = [example['text'] for example in emotion['test']]\n",
        "test_labels = [example['label'] for example in emotion['test']]\n",
        "\n",
        "# Define the model name and the corresponding TensorFlow Hub URLs\n",
        "bert_model_name = 'small_bert/bert_en_uncased_L-4_H-512_A-8'\n",
        "encoder_url = f\"https://tfhub.dev/tensorflow/{bert_model_name}/2\"\n",
        "preprocess_url = f\"https://tfhub.dev/tensorflow/bert_en_uncased_preprocess/3\"\n",
        "\n",
        "# Define the BertClassifier model\n",
        "class BertClassifier(tf.keras.Model):\n",
        "    def __init__(self):\n",
        "        super(BertClassifier, self).__init__()\n",
        "        self.preprocessor = hub.KerasLayer(preprocess_url)\n",
        "        self.encoder = hub.KerasLayer(encoder_url, trainable=True)\n",
        "        self.dropout = tf.keras.layers.Dropout(0.1)\n",
        "        self.classifier = tf.keras.layers.Dense(6, activation='softmax')\n",
        "\n",
        "    def call(self, inputs):\n",
        "        preprocessed_inputs = self.preprocessor(inputs)\n",
        "        encoder_outputs = self.encoder(preprocessed_inputs)\n",
        "        dropout_output = self.dropout(encoder_outputs['pooled_output'])\n",
        "        return self.classifier(dropout_output)\n",
        "\n",
        "# Instantiate the classifier model\n",
        "classifier_model = BertClassifier()\n",
        "\n",
        "# Compile the model with the Adam optimizer, sparse categorical cross-entropy loss, and accuracy metric\n",
        "classifier_model.compile(\n",
        "    optimizer=tf.keras.optimizers.Adam(learning_rate=5e-5),\n",
        "    loss=tf.keras.losses.SparseCategoricalCrossentropy(from_logits=False),\n",
        "    metrics=['accuracy']\n",
        ")\n",
        "\n",
        "# Create TensorFlow datasets from the training and validation data\n",
        "train_dataset = tf.data.Dataset.from_tensor_slices((train_texts, train_labels)).batch(32).prefetch(tf.data.AUTOTUNE)\n",
        "val_dataset = tf.data.Dataset.from_tensor_slices((val_texts, val_labels)).batch(32).prefetch(tf.data.AUTOTUNE)\n",
        "\n",
        "# Train the model\n",
        "history = classifier_model.fit(\n",
        "    train_dataset,\n",
        "    validation_data=val_dataset,\n",
        "    epochs=3\n",
        ")\n",
        "\n",
        "# Evaluate the model on the test dataset\n",
        "test_dataset = tf.data.Dataset.from_tensor_slices((test_texts, test_labels)).batch(32).prefetch(tf.data.AUTOTUNE)\n",
        "test_loss, test_accuracy = classifier_model.evaluate(test_dataset)\n",
        "print(f\"Test Accuracy: {test_accuracy}\")\n",
        "\n",
        "# Predict the labels for the test dataset\n",
        "y_pred = classifier_model.predict(test_dataset)\n",
        "y_pred_classes = np.argmax(y_pred, axis=1)\n",
        "\n",
        "# Convert test labels to numpy array\n",
        "y_true = np.array(test_labels)\n",
        "\n",
        "# Calculate the weighted accuracy\n",
        "unique_classes = np.unique(y_true)\n",
        "class_weights = np.array([np.sum(y_true == cls) for cls in unique_classes]) / len(y_true)\n",
        "\n",
        "# Calculate per-class accuracy\n",
        "per_class_accuracy = np.array([accuracy_score(y_true[y_true == cls], y_pred_classes[y_true == cls]) for cls in unique_classes])\n",
        "\n",
        "# Calculate weighted accuracy\n",
        "weighted_accuracy = np.sum(per_class_accuracy * class_weights)\n",
        "\n",
        "print(f\"Weighted Accuracy: {weighted_accuracy}\")\n",
        "\n",
        "# Generate classification report\n",
        "report = classification_report(y_true, y_pred_classes, target_names=emotion['train'].features['label'].names)\n",
        "\n",
        "# Print the classification report\n",
        "print(\"Classification Report:\")\n",
        "print(report)\n"
      ],
      "metadata": {
        "colab": {
          "base_uri": "https://localhost:8080/"
        },
        "id": "2U1HXuHEAmgw",
        "outputId": "da534136-7c4b-416a-889e-1cba667b350a"
      },
      "execution_count": 26,
      "outputs": [
        {
          "output_type": "stream",
          "name": "stdout",
          "text": [
            "Epoch 1/3\n",
            "500/500 [==============================] - 380s 743ms/step - loss: 0.5677 - accuracy: 0.7928 - val_loss: 0.1947 - val_accuracy: 0.9245\n",
            "Epoch 2/3\n",
            "500/500 [==============================] - 374s 747ms/step - loss: 0.1724 - accuracy: 0.9314 - val_loss: 0.1612 - val_accuracy: 0.9370\n",
            "Epoch 3/3\n",
            "500/500 [==============================] - 374s 748ms/step - loss: 0.1156 - accuracy: 0.9490 - val_loss: 0.1759 - val_accuracy: 0.9315\n",
            "63/63 [==============================] - 15s 232ms/step - loss: 0.1746 - accuracy: 0.9270\n",
            "Test Accuracy: 0.9269999861717224\n",
            "63/63 [==============================] - 16s 248ms/step\n",
            "Weighted Accuracy: 0.9269999999999999\n",
            "Classification Report:\n",
            "              precision    recall  f1-score   support\n",
            "\n",
            "     sadness       0.98      0.96      0.97       581\n",
            "         joy       0.93      0.96      0.94       695\n",
            "        love       0.86      0.72      0.78       159\n",
            "       anger       0.95      0.92      0.93       275\n",
            "        fear       0.85      0.98      0.91       224\n",
            "    surprise       0.84      0.70      0.76        66\n",
            "\n",
            "    accuracy                           0.93      2000\n",
            "   macro avg       0.90      0.87      0.88      2000\n",
            "weighted avg       0.93      0.93      0.93      2000\n",
            "\n"
          ]
        }
      ]
    },
    {
      "cell_type": "markdown",
      "source": [
        "The performance of the best model before (0.92 with the LSTM model with one layer) could be improved by 1% to 0.93."
      ],
      "metadata": {
        "id": "b9GU-SgtIS2d"
      }
    },
    {
      "cell_type": "markdown",
      "source": [
        "# Question 4 (10 points)\n",
        "\n",
        "Now let's try some state-of-the-art Large Language Models (LLM)! Cohere provides trial API for free and you may register and use the LLM. After you obtain the trial API, go to https://dashboard.cohere.com/playground/classify and see how the LLM-based classification works. You could choose several pretrained embedding models such as embed-engligh-2.0 or embed-engligh-3.0 and provide example training data. Evaluate the model performance."
      ],
      "metadata": {
        "id": "OJrIp02Bc20T"
      }
    },
    {
      "cell_type": "code",
      "source": [
        "!pip install -U cohere"
      ],
      "metadata": {
        "id": "B2U4H9rPc8dm",
        "colab": {
          "base_uri": "https://localhost:8080/"
        },
        "outputId": "54481471-82ee-4ff6-815b-199ee9f5b5be"
      },
      "execution_count": 33,
      "outputs": [
        {
          "output_type": "stream",
          "name": "stdout",
          "text": [
            "Collecting cohere\n",
            "  Downloading cohere-5.5.0-py3-none-any.whl (158 kB)\n",
            "\u001b[2K     \u001b[90m━━━━━━━━━━━━━━━━━━━━━━━━━━━━━━━━━━━━━━━━\u001b[0m \u001b[32m158.5/158.5 kB\u001b[0m \u001b[31m4.6 MB/s\u001b[0m eta \u001b[36m0:00:00\u001b[0m\n",
            "\u001b[?25hCollecting boto3<2.0.0,>=1.34.0 (from cohere)\n",
            "  Downloading boto3-1.34.108-py3-none-any.whl (139 kB)\n",
            "\u001b[2K     \u001b[90m━━━━━━━━━━━━━━━━━━━━━━━━━━━━━━━━━━━━━━━━\u001b[0m \u001b[32m139.3/139.3 kB\u001b[0m \u001b[31m8.1 MB/s\u001b[0m eta \u001b[36m0:00:00\u001b[0m\n",
            "\u001b[?25hCollecting fastavro<2.0.0,>=1.9.4 (from cohere)\n",
            "  Downloading fastavro-1.9.4-cp310-cp310-manylinux_2_17_x86_64.manylinux2014_x86_64.whl (3.1 MB)\n",
            "\u001b[2K     \u001b[90m━━━━━━━━━━━━━━━━━━━━━━━━━━━━━━━━━━━━━━━━\u001b[0m \u001b[32m3.1/3.1 MB\u001b[0m \u001b[31m16.6 MB/s\u001b[0m eta \u001b[36m0:00:00\u001b[0m\n",
            "\u001b[?25hCollecting httpx>=0.21.2 (from cohere)\n",
            "  Downloading httpx-0.27.0-py3-none-any.whl (75 kB)\n",
            "\u001b[2K     \u001b[90m━━━━━━━━━━━━━━━━━━━━━━━━━━━━━━━━━━━━━━━━\u001b[0m \u001b[32m75.6/75.6 kB\u001b[0m \u001b[31m12.3 MB/s\u001b[0m eta \u001b[36m0:00:00\u001b[0m\n",
            "\u001b[?25hCollecting httpx-sse<0.5.0,>=0.4.0 (from cohere)\n",
            "  Downloading httpx_sse-0.4.0-py3-none-any.whl (7.8 kB)\n",
            "Requirement already satisfied: pydantic>=1.9.2 in /usr/local/lib/python3.10/dist-packages (from cohere) (2.7.1)\n",
            "Requirement already satisfied: requests<3.0.0,>=2.0.0 in /usr/local/lib/python3.10/dist-packages (from cohere) (2.31.0)\n",
            "Requirement already satisfied: tokenizers<0.20,>=0.19 in /usr/local/lib/python3.10/dist-packages (from cohere) (0.19.1)\n",
            "Collecting types-requests<3.0.0,>=2.0.0 (from cohere)\n",
            "  Downloading types_requests-2.31.0.20240406-py3-none-any.whl (15 kB)\n",
            "Requirement already satisfied: typing_extensions>=4.0.0 in /usr/local/lib/python3.10/dist-packages (from cohere) (4.5.0)\n",
            "Collecting botocore<1.35.0,>=1.34.108 (from boto3<2.0.0,>=1.34.0->cohere)\n",
            "  Downloading botocore-1.34.108-py3-none-any.whl (12.2 MB)\n",
            "\u001b[2K     \u001b[90m━━━━━━━━━━━━━━━━━━━━━━━━━━━━━━━━━━━━━━━━\u001b[0m \u001b[32m12.2/12.2 MB\u001b[0m \u001b[31m49.0 MB/s\u001b[0m eta \u001b[36m0:00:00\u001b[0m\n",
            "\u001b[?25hCollecting jmespath<2.0.0,>=0.7.1 (from boto3<2.0.0,>=1.34.0->cohere)\n",
            "  Downloading jmespath-1.0.1-py3-none-any.whl (20 kB)\n",
            "Collecting s3transfer<0.11.0,>=0.10.0 (from boto3<2.0.0,>=1.34.0->cohere)\n",
            "  Downloading s3transfer-0.10.1-py3-none-any.whl (82 kB)\n",
            "\u001b[2K     \u001b[90m━━━━━━━━━━━━━━━━━━━━━━━━━━━━━━━━━━━━━━━━\u001b[0m \u001b[32m82.2/82.2 kB\u001b[0m \u001b[31m14.6 MB/s\u001b[0m eta \u001b[36m0:00:00\u001b[0m\n",
            "\u001b[?25hRequirement already satisfied: anyio in /usr/local/lib/python3.10/dist-packages (from httpx>=0.21.2->cohere) (3.7.1)\n",
            "Requirement already satisfied: certifi in /usr/local/lib/python3.10/dist-packages (from httpx>=0.21.2->cohere) (2024.2.2)\n",
            "Collecting httpcore==1.* (from httpx>=0.21.2->cohere)\n",
            "  Downloading httpcore-1.0.5-py3-none-any.whl (77 kB)\n",
            "\u001b[2K     \u001b[90m━━━━━━━━━━━━━━━━━━━━━━━━━━━━━━━━━━━━━━━━\u001b[0m \u001b[32m77.9/77.9 kB\u001b[0m \u001b[31m13.9 MB/s\u001b[0m eta \u001b[36m0:00:00\u001b[0m\n",
            "\u001b[?25hRequirement already satisfied: idna in /usr/local/lib/python3.10/dist-packages (from httpx>=0.21.2->cohere) (3.7)\n",
            "Requirement already satisfied: sniffio in /usr/local/lib/python3.10/dist-packages (from httpx>=0.21.2->cohere) (1.3.1)\n",
            "Collecting h11<0.15,>=0.13 (from httpcore==1.*->httpx>=0.21.2->cohere)\n",
            "  Downloading h11-0.14.0-py3-none-any.whl (58 kB)\n",
            "\u001b[2K     \u001b[90m━━━━━━━━━━━━━━━━━━━━━━━━━━━━━━━━━━━━━━━━\u001b[0m \u001b[32m58.3/58.3 kB\u001b[0m \u001b[31m10.7 MB/s\u001b[0m eta \u001b[36m0:00:00\u001b[0m\n",
            "\u001b[?25hRequirement already satisfied: annotated-types>=0.4.0 in /usr/local/lib/python3.10/dist-packages (from pydantic>=1.9.2->cohere) (0.6.0)\n",
            "Requirement already satisfied: pydantic-core==2.18.2 in /usr/local/lib/python3.10/dist-packages (from pydantic>=1.9.2->cohere) (2.18.2)\n",
            "Collecting typing_extensions>=4.0.0 (from cohere)\n",
            "  Downloading typing_extensions-4.11.0-py3-none-any.whl (34 kB)\n",
            "Requirement already satisfied: charset-normalizer<4,>=2 in /usr/local/lib/python3.10/dist-packages (from requests<3.0.0,>=2.0.0->cohere) (3.3.2)\n",
            "Requirement already satisfied: urllib3<3,>=1.21.1 in /usr/local/lib/python3.10/dist-packages (from requests<3.0.0,>=2.0.0->cohere) (2.0.7)\n",
            "Requirement already satisfied: huggingface-hub<1.0,>=0.16.4 in /usr/local/lib/python3.10/dist-packages (from tokenizers<0.20,>=0.19->cohere) (0.23.0)\n",
            "Requirement already satisfied: python-dateutil<3.0.0,>=2.1 in /usr/local/lib/python3.10/dist-packages (from botocore<1.35.0,>=1.34.108->boto3<2.0.0,>=1.34.0->cohere) (2.8.2)\n",
            "Requirement already satisfied: filelock in /usr/local/lib/python3.10/dist-packages (from huggingface-hub<1.0,>=0.16.4->tokenizers<0.20,>=0.19->cohere) (3.14.0)\n",
            "Requirement already satisfied: fsspec>=2023.5.0 in /usr/local/lib/python3.10/dist-packages (from huggingface-hub<1.0,>=0.16.4->tokenizers<0.20,>=0.19->cohere) (2023.6.0)\n",
            "Requirement already satisfied: packaging>=20.9 in /usr/local/lib/python3.10/dist-packages (from huggingface-hub<1.0,>=0.16.4->tokenizers<0.20,>=0.19->cohere) (24.0)\n",
            "Requirement already satisfied: pyyaml>=5.1 in /usr/local/lib/python3.10/dist-packages (from huggingface-hub<1.0,>=0.16.4->tokenizers<0.20,>=0.19->cohere) (6.0.1)\n",
            "Requirement already satisfied: tqdm>=4.42.1 in /usr/local/lib/python3.10/dist-packages (from huggingface-hub<1.0,>=0.16.4->tokenizers<0.20,>=0.19->cohere) (4.66.4)\n",
            "Requirement already satisfied: exceptiongroup in /usr/local/lib/python3.10/dist-packages (from anyio->httpx>=0.21.2->cohere) (1.2.1)\n",
            "Requirement already satisfied: six>=1.5 in /usr/local/lib/python3.10/dist-packages (from python-dateutil<3.0.0,>=2.1->botocore<1.35.0,>=1.34.108->boto3<2.0.0,>=1.34.0->cohere) (1.16.0)\n",
            "Installing collected packages: typing_extensions, types-requests, jmespath, httpx-sse, h11, fastavro, httpcore, botocore, s3transfer, httpx, boto3, cohere\n",
            "  Attempting uninstall: typing_extensions\n",
            "    Found existing installation: typing_extensions 4.5.0\n",
            "    Uninstalling typing_extensions-4.5.0:\n",
            "      Successfully uninstalled typing_extensions-4.5.0\n",
            "\u001b[31mERROR: pip's dependency resolver does not currently take into account all the packages that are installed. This behaviour is the source of the following dependency conflicts.\n",
            "torch 2.2.1+cu121 requires nvidia-cublas-cu12==12.1.3.1; platform_system == \"Linux\" and platform_machine == \"x86_64\", which is not installed.\n",
            "torch 2.2.1+cu121 requires nvidia-cuda-cupti-cu12==12.1.105; platform_system == \"Linux\" and platform_machine == \"x86_64\", which is not installed.\n",
            "torch 2.2.1+cu121 requires nvidia-cuda-nvrtc-cu12==12.1.105; platform_system == \"Linux\" and platform_machine == \"x86_64\", which is not installed.\n",
            "torch 2.2.1+cu121 requires nvidia-cuda-runtime-cu12==12.1.105; platform_system == \"Linux\" and platform_machine == \"x86_64\", which is not installed.\n",
            "torch 2.2.1+cu121 requires nvidia-cudnn-cu12==8.9.2.26; platform_system == \"Linux\" and platform_machine == \"x86_64\", which is not installed.\n",
            "torch 2.2.1+cu121 requires nvidia-cufft-cu12==11.0.2.54; platform_system == \"Linux\" and platform_machine == \"x86_64\", which is not installed.\n",
            "torch 2.2.1+cu121 requires nvidia-curand-cu12==10.3.2.106; platform_system == \"Linux\" and platform_machine == \"x86_64\", which is not installed.\n",
            "torch 2.2.1+cu121 requires nvidia-cusolver-cu12==11.4.5.107; platform_system == \"Linux\" and platform_machine == \"x86_64\", which is not installed.\n",
            "torch 2.2.1+cu121 requires nvidia-cusparse-cu12==12.1.0.106; platform_system == \"Linux\" and platform_machine == \"x86_64\", which is not installed.\n",
            "torch 2.2.1+cu121 requires nvidia-nccl-cu12==2.19.3; platform_system == \"Linux\" and platform_machine == \"x86_64\", which is not installed.\n",
            "torch 2.2.1+cu121 requires nvidia-nvtx-cu12==12.1.105; platform_system == \"Linux\" and platform_machine == \"x86_64\", which is not installed.\n",
            "tensorflow 2.13.0 requires typing-extensions<4.6.0,>=3.6.6, but you have typing-extensions 4.11.0 which is incompatible.\n",
            "tf-keras 2.15.1 requires tensorflow<2.16,>=2.15, but you have tensorflow 2.13.0 which is incompatible.\u001b[0m\u001b[31m\n",
            "\u001b[0mSuccessfully installed boto3-1.34.108 botocore-1.34.108 cohere-5.5.0 fastavro-1.9.4 h11-0.14.0 httpcore-1.0.5 httpx-0.27.0 httpx-sse-0.4.0 jmespath-1.0.1 s3transfer-0.10.1 types-requests-2.31.0.20240406 typing_extensions-4.11.0\n"
          ]
        }
      ]
    },
    {
      "cell_type": "code",
      "source": [
        "# Sample training data\n",
        "import cohere\n",
        "from cohere import ClassifyExample\n",
        "from datasets import load_dataset\n",
        "\n",
        "co = cohere.Client('A2f5Dt0nZJsKIoIW0WCtMs0iLjfqnsOVw5zHUFHt')\n",
        "\n",
        "# Load the emotion dataset\n",
        "emotion = load_dataset('emotion')\n",
        "\n",
        "# Print dataset structure to debug\n",
        "print(emotion)\n",
        "\n",
        "# Ensure proper access to dataset features\n",
        "label_descriptions = emotion['train'].features['label'].names\n",
        "print(\"Label Descriptions:\", label_descriptions)\n",
        "\n",
        "# Sample inputs for classification\n",
        "inputs = [\n",
        "    \"I am on cloud 9!\",\n",
        "    \"Try to talk to me again and I will break your pencil!!\",\n",
        "    \"I am about to cry\"\n",
        "]\n",
        "\n",
        "# Create examples for classification\n",
        "examples = [\n",
        "    ClassifyExample(text=emotion['train'][i]['text'], label=label_descriptions[emotion['train'][i]['label']])\n",
        "    for i in range(min(100, len(emotion['train'])))\n",
        "]\n",
        "\n",
        "print(\"Examples:\", examples)\n",
        "print(\"Inputs:\", inputs)\n"
      ],
      "metadata": {
        "id": "-6FK4OzdN-yK",
        "outputId": "a82ea81a-0d8f-4be7-8fe1-7621f6b34b86",
        "colab": {
          "base_uri": "https://localhost:8080/"
        }
      },
      "execution_count": 35,
      "outputs": [
        {
          "output_type": "stream",
          "name": "stderr",
          "text": [
            "/usr/local/lib/python3.10/dist-packages/datasets/load.py:1486: FutureWarning: The repository for emotion contains custom code which must be executed to correctly load the dataset. You can inspect the repository content at https://hf.co/datasets/emotion\n",
            "You can avoid this message in future by passing the argument `trust_remote_code=True`.\n",
            "Passing `trust_remote_code=True` will be mandatory to load this dataset from the next major release of `datasets`.\n",
            "  warnings.warn(\n"
          ]
        },
        {
          "output_type": "stream",
          "name": "stdout",
          "text": [
            "DatasetDict({\n",
            "    train: Dataset({\n",
            "        features: ['text', 'label'],\n",
            "        num_rows: 16000\n",
            "    })\n",
            "    validation: Dataset({\n",
            "        features: ['text', 'label'],\n",
            "        num_rows: 2000\n",
            "    })\n",
            "    test: Dataset({\n",
            "        features: ['text', 'label'],\n",
            "        num_rows: 2000\n",
            "    })\n",
            "})\n",
            "Label Descriptions: ['sadness', 'joy', 'love', 'anger', 'fear', 'surprise']\n",
            "Examples: [ClassifyExample(text='i didnt feel humiliated', label='sadness'), ClassifyExample(text='i can go from feeling so hopeless to so damned hopeful just from being around someone who cares and is awake', label='sadness'), ClassifyExample(text='im grabbing a minute to post i feel greedy wrong', label='anger'), ClassifyExample(text='i am ever feeling nostalgic about the fireplace i will know that it is still on the property', label='love'), ClassifyExample(text='i am feeling grouchy', label='anger'), ClassifyExample(text='ive been feeling a little burdened lately wasnt sure why that was', label='sadness'), ClassifyExample(text='ive been taking or milligrams or times recommended amount and ive fallen asleep a lot faster but i also feel like so funny', label='surprise'), ClassifyExample(text='i feel as confused about life as a teenager or as jaded as a year old man', label='fear'), ClassifyExample(text='i have been with petronas for years i feel that petronas has performed well and made a huge profit', label='joy'), ClassifyExample(text='i feel romantic too', label='love'), ClassifyExample(text='i feel like i have to make the suffering i m seeing mean something', label='sadness'), ClassifyExample(text='i do feel that running is a divine experience and that i can expect to have some type of spiritual encounter', label='joy'), ClassifyExample(text='i think it s the easiest time of year to feel dissatisfied', label='anger'), ClassifyExample(text='i feel low energy i m just thirsty', label='sadness'), ClassifyExample(text='i have immense sympathy with the general point but as a possible proto writer trying to find time to write in the corners of life and with no sign of an agent let alone a publishing contract this feels a little precious', label='joy'), ClassifyExample(text='i do not feel reassured anxiety is on each side', label='joy'), ClassifyExample(text='i didnt really feel that embarrassed', label='sadness'), ClassifyExample(text='i feel pretty pathetic most of the time', label='sadness'), ClassifyExample(text='i started feeling sentimental about dolls i had as a child and so began a collection of vintage barbie dolls from the sixties', label='sadness'), ClassifyExample(text='i now feel compromised and skeptical of the value of every unit of work i put in', label='fear'), ClassifyExample(text='i feel irritated and rejected without anyone doing anything or saying anything', label='anger'), ClassifyExample(text='i am feeling completely overwhelmed i have two strategies that help me to feel grounded pour my heart out in my journal in the form of a letter to god and then end with a list of five things i am most grateful for', label='fear'), ClassifyExample(text='i have the feeling she was amused and delighted', label='joy'), ClassifyExample(text='i was able to help chai lifeline with your support and encouragement is a great feeling and i am so glad you were able to help me', label='joy'), ClassifyExample(text='i already feel like i fucked up though because i dont usually eat at all in the morning', label='anger'), ClassifyExample(text='i still love my so and wish the best for him i can no longer tolerate the effect that bm has on our lives and the fact that is has turned my so into a bitter angry person who is not always particularly kind to the people around him when he is feeling stressed', label='sadness'), ClassifyExample(text='i feel so inhibited in someone elses kitchen like im painting on someone elses picture', label='sadness'), ClassifyExample(text='i become overwhelmed and feel defeated', label='sadness'), ClassifyExample(text='i feel kinda appalled that she feels like she needs to explain in wide and lenghth her body measures etc pp', label='anger'), ClassifyExample(text='i feel more superior dead chicken or grieving child', label='joy'), ClassifyExample(text='i get giddy over feeling elegant in a perfectly fitted pencil skirt', label='joy'), ClassifyExample(text='i remember feeling acutely distressed for a few days', label='fear'), ClassifyExample(text='i have seen heard and read over the past couple of days i am left feeling impressed by more than a few companies', label='surprise'), ClassifyExample(text='i climbed the hill feeling frustrated that id pretty much paced entirely wrong for this course and that a factor that has never ever hampered me had made such a dent in the day', label='anger'), ClassifyExample(text='i can t imagine a real life scenario where i would be emotionally connected enough with someone to feel totally accepted and safe where it it morally acceptable for me to have close and prolonged physical contact and where sex won t be expected subsequently', label='joy'), ClassifyExample(text='i am not sure what would make me feel content if anything', label='joy'), ClassifyExample(text='i have been feeling the need to be creative', label='joy'), ClassifyExample(text='i do however want you to know that if something someone is causing you to feel less then your splendid self step away from them', label='joy'), ClassifyExample(text='i feel a bit rude writing to an elderly gentleman to ask for gifts because i feel a bit greedy but what is christmas about if not mild greed', label='anger'), ClassifyExample(text='i need you i need someone i need to be protected and feel safe i am small now i find myself in a season of no words', label='joy'), ClassifyExample(text='i plan to share my everyday life stories traveling adventures inspirations and handmade creations with you and hope you will also feel inspired', label='joy'), ClassifyExample(text='i already have my christmas trees up i got two and am feeling festive which i m sure is spurring me to get started on this book', label='joy'), ClassifyExample(text='ive worn it once on its own with a little concealer and for the days im feeling brave but dont want to be pale then its perfect', label='joy'), ClassifyExample(text='i feel very strongly passionate about when some jerk off decides to poke and make fun of us', label='joy'), ClassifyExample(text='i was feeling so discouraged we are already robbing peter to pay paul to get our cow this year but we cant afford to not get the cow this way', label='sadness'), ClassifyExample(text='i was feeling listless from the need of new things something different', label='sadness'), ClassifyExample(text='i lost my special mind but don t worry i m still sane i just wanted you to feel what i felt while reading this book i don t know how many times it was said that sam was special but i can guarantee you it was many more times than what i used in that paragraph did i tell you she was special', label='joy'), ClassifyExample(text='i can t let go of that sad feeling that i want to be accepted here in this first home of mine', label='love'), ClassifyExample(text='on a boat trip to denmark', label='joy'), ClassifyExample(text='i stopped feeling cold and began feeling hot', label='anger'), ClassifyExample(text='i need to feel the dough to make sure its just perfect', label='joy'), ClassifyExample(text='i found myself feeling a little discouraged that morning', label='sadness'), ClassifyExample(text='i feel selfish and spoiled', label='anger'), ClassifyExample(text='i was stymied a little bit as i wrote feeling unsure that i might go somewhere with the story unintended', label='fear'), ClassifyExample(text='i bag qaf look who s cryin now jacynthe lookin good feelin gorgeous rupaul the skins scissor sisters valentine the sun fed up kayle who s your daddy gerling awake the unkind u', label='joy'), ClassifyExample(text='i feel you know basically like a fake in the realm of science fiction', label='sadness'), ClassifyExample(text='i hate living under my dads roof because it gives him an excuse to be an asshole to me because hes providing for me to live here i think he feels that he needs to make me feel as unwelcome as possible so ill leave', label='sadness'), ClassifyExample(text='i keep feeling pleasantly surprised at his supportiveness and also his ease in new situations', label='surprise'), ClassifyExample(text='i have this feeling that if i have anymore vigorous sexual activity in the coming yes i misspelt that as cumming days parts of me will begin to fall off', label='joy'), ClassifyExample(text='i feel my mom s graceful warm loving smile as i rob the time to nurture myself and heal', label='joy'), ClassifyExample(text='i feel in they talk the brother in law is extremely popular the one that had no me to think is so stiff', label='joy'), ClassifyExample(text='i ate i could feel a gentle tingle throughout almost as if i was feeling the healing taking place at a cellular level', label='love'), ClassifyExample(text='i feel like we are pressured into being young beautiful thin and depending on the trend having the girls rejuvenated or butt implants', label='fear'), ClassifyExample(text='i began having them several times a week feeling tortured by the hallucinations moving people and figures sounds and vibrations', label='fear'), ClassifyExample(text='i am now nearly finished the week detox and i feel amazing', label='surprise'), ClassifyExample(text='i feel selfish as i read back to my former posts how i have never asked for prayers for others how i never considered that there may be others out there that deserve their prayers answered before my own', label='anger'), ClassifyExample(text='i know the pain parents feel when an enraged child becomes violent', label='anger'), ClassifyExample(text='i have been on a roller coaster of emotions over these supposed feelings that something unpleasant was coming', label='sadness'), ClassifyExample(text='i suppose my own truth needs to be shared i havent been feeling very faithful lately ive dwelled more in doubt and uncertainty than i have in faith', label='love'), ClassifyExample(text='i was feeling brave when i bought it and clearly when i was doing my makeup', label='joy'), ClassifyExample(text='i am feeling miserable but c i am also the proudest mum on earth', label='sadness'), ClassifyExample(text='i figure my family loves us no matter what but around anyone else i feel embarrassed when michelle goes ballistic', label='sadness'), ClassifyExample(text='i don t necessarily think f bombs and sex are necessary in all stories but i feel reassured when i see them in print journals', label='joy'), ClassifyExample(text='i can feel my ovaries aching talking to me as i like to put it', label='sadness'), ClassifyExample(text='i didn t feel like doing much chris and i mostly just took too many pictures of unimportant stuff', label='sadness'), ClassifyExample(text='im tired of the book and ready to have it out of here and finding out that i was given unsuitable images and then feeling blamed for the result did not sit well', label='sadness'), ClassifyExample(text='i did successfully manage to stretch a mxm canvas i feel that this is an achievement in itself for me and was a worthwhile usage of my money and time i will use the canvas for future briefs', label='joy'), ClassifyExample(text='i think feelings are one of nay the most important things we have', label='joy'), ClassifyExample(text='i feel completely honored to be an influence to this young talented fully alive beautiful girl woman', label='joy'), ClassifyExample(text='i feel angered and firey', label='anger'), ClassifyExample(text='i feel like a miserable piece of garbage', label='sadness'), ClassifyExample(text='i feel like i need to make a list leanne would be appalled at the thought so that i dont miss anything', label='anger'), ClassifyExample(text='i drove dannika to school i was feeling a little bit rushed and this is what greeted me as i turned the corner', label='anger'), ClassifyExample(text='i remember feeling so hellip furious with the shooter', label='anger'), ClassifyExample(text='i feel very happy and excited since i learned so many things', label='joy'), ClassifyExample(text='i feel that at shows and around show horses people are trusting and relaxed because most show horses are safe and quiet and are handled frequently', label='joy'), ClassifyExample(text='i only have a couple of things left to make and at the start of december i am done and feeling smug', label='joy'), ClassifyExample(text='i think about how u could make me feel and realize that everything will be ok', label='joy'), ClassifyExample(text='i feel so worthless during those times i was struggling finding work', label='sadness'), ClassifyExample(text='i will be able to lay on my bed in the dark and not feel terrified at least for a while', label='fear'), ClassifyExample(text='i was ready to meet mom in the airport and feel her ever supportive arms around me', label='love'), ClassifyExample(text='im feeling bitter today my mood has been strange the entire day so i guess its that', label='anger'), ClassifyExample(text='when my mums brother passed away after having been involved in a car accident he was bringing me a present as i had passed my form five exams with flying colours', label='sadness'), ClassifyExample(text='i am letting go of the animosity that is towards anyone that i feel has wronged me', label='anger'), ClassifyExample(text='i talk to dogs as i feel they cannot understand words but they can read emotions and know how to be supportive i decided i should go home', label='love'), ClassifyExample(text='i feel like throwing away the shitty piece of shit paper', label='sadness'), ClassifyExample(text='im starting to feel wryly amused at the banal comedy of errors my life is turning into', label='joy'), ClassifyExample(text='i find every body beautiful and only want people to feel vital in their bodies', label='joy'), ClassifyExample(text='i hear are owners who feel victimized by their associations the associations attorneys or the property manager', label='sadness'), ClassifyExample(text='i say goodbye to the fam theyre all sad a crying and i feel like a heartless bitch because hey im pretty excited to be flying for the first time and you know also to spend a year in another country', label='anger')]\n",
            "Inputs: ['I am on cloud 9!', 'Try to talk to me again and I will break your pencil!!', 'I am about to cry']\n"
          ]
        }
      ]
    },
    {
      "cell_type": "code",
      "source": [
        "# Classify the input texts using the provided model and examples\n",
        "response = co.classify(\n",
        "    model='embed-english-v2.0',\n",
        "    inputs=inputs,\n",
        "    examples=examples\n",
        ")\n",
        "\n",
        "# Print the confidence levels of the labels\n",
        "print(f'The confidence levels of the labels are: {response.classifications}')\n",
        "print(response)\n"
      ],
      "metadata": {
        "id": "J1edk6_sOMuT",
        "outputId": "74b9de51-7def-48f5-fcd4-9460bf3d13e3",
        "colab": {
          "base_uri": "https://localhost:8080/"
        }
      },
      "execution_count": 36,
      "outputs": [
        {
          "output_type": "stream",
          "name": "stdout",
          "text": [
            "The confidence levels of the labels are: [ClassifyResponseClassificationsItem(id='578564b4-371f-4e35-89da-d5506fa1708a', input='I am on cloud 9!', prediction='joy', predictions=['joy'], confidence=0.98215467, confidences=[0.98215467], labels={'anger': ClassifyResponseClassificationsItemLabelsValue(confidence=0.0006629752), 'fear': ClassifyResponseClassificationsItemLabelsValue(confidence=0.0018049178), 'joy': ClassifyResponseClassificationsItemLabelsValue(confidence=0.98215467), 'love': ClassifyResponseClassificationsItemLabelsValue(confidence=0.006446859), 'sadness': ClassifyResponseClassificationsItemLabelsValue(confidence=0.00038804451), 'surprise': ClassifyResponseClassificationsItemLabelsValue(confidence=0.008542519)}, classification_type='single-label'), ClassifyResponseClassificationsItem(id='39cdda0e-2145-4fc7-b781-3a93d7c58475', input='Try to talk to me again and I will break your pencil!!', prediction='joy', predictions=['joy'], confidence=0.95153666, confidences=[0.95153666], labels={'anger': ClassifyResponseClassificationsItemLabelsValue(confidence=0.038069345), 'fear': ClassifyResponseClassificationsItemLabelsValue(confidence=0.00013881942), 'joy': ClassifyResponseClassificationsItemLabelsValue(confidence=0.95153666), 'love': ClassifyResponseClassificationsItemLabelsValue(confidence=0.0010279279), 'sadness': ClassifyResponseClassificationsItemLabelsValue(confidence=0.009199449), 'surprise': ClassifyResponseClassificationsItemLabelsValue(confidence=2.7781085e-05)}, classification_type='single-label'), ClassifyResponseClassificationsItem(id='f63b6f34-4c4a-4929-9b7e-37f71d9f895d', input='I am about to cry', prediction='sadness', predictions=['sadness'], confidence=0.82194823, confidences=[0.82194823], labels={'anger': ClassifyResponseClassificationsItemLabelsValue(confidence=0.03206408), 'fear': ClassifyResponseClassificationsItemLabelsValue(confidence=0.004070238), 'joy': ClassifyResponseClassificationsItemLabelsValue(confidence=0.1334656), 'love': ClassifyResponseClassificationsItemLabelsValue(confidence=0.0064534503), 'sadness': ClassifyResponseClassificationsItemLabelsValue(confidence=0.82194823), 'surprise': ClassifyResponseClassificationsItemLabelsValue(confidence=0.0019984143)}, classification_type='single-label')]\n",
            "id='f18c035d-96cd-4855-881d-ea6e63975740' classifications=[ClassifyResponseClassificationsItem(id='578564b4-371f-4e35-89da-d5506fa1708a', input='I am on cloud 9!', prediction='joy', predictions=['joy'], confidence=0.98215467, confidences=[0.98215467], labels={'anger': ClassifyResponseClassificationsItemLabelsValue(confidence=0.0006629752), 'fear': ClassifyResponseClassificationsItemLabelsValue(confidence=0.0018049178), 'joy': ClassifyResponseClassificationsItemLabelsValue(confidence=0.98215467), 'love': ClassifyResponseClassificationsItemLabelsValue(confidence=0.006446859), 'sadness': ClassifyResponseClassificationsItemLabelsValue(confidence=0.00038804451), 'surprise': ClassifyResponseClassificationsItemLabelsValue(confidence=0.008542519)}, classification_type='single-label'), ClassifyResponseClassificationsItem(id='39cdda0e-2145-4fc7-b781-3a93d7c58475', input='Try to talk to me again and I will break your pencil!!', prediction='joy', predictions=['joy'], confidence=0.95153666, confidences=[0.95153666], labels={'anger': ClassifyResponseClassificationsItemLabelsValue(confidence=0.038069345), 'fear': ClassifyResponseClassificationsItemLabelsValue(confidence=0.00013881942), 'joy': ClassifyResponseClassificationsItemLabelsValue(confidence=0.95153666), 'love': ClassifyResponseClassificationsItemLabelsValue(confidence=0.0010279279), 'sadness': ClassifyResponseClassificationsItemLabelsValue(confidence=0.009199449), 'surprise': ClassifyResponseClassificationsItemLabelsValue(confidence=2.7781085e-05)}, classification_type='single-label'), ClassifyResponseClassificationsItem(id='f63b6f34-4c4a-4929-9b7e-37f71d9f895d', input='I am about to cry', prediction='sadness', predictions=['sadness'], confidence=0.82194823, confidences=[0.82194823], labels={'anger': ClassifyResponseClassificationsItemLabelsValue(confidence=0.03206408), 'fear': ClassifyResponseClassificationsItemLabelsValue(confidence=0.004070238), 'joy': ClassifyResponseClassificationsItemLabelsValue(confidence=0.1334656), 'love': ClassifyResponseClassificationsItemLabelsValue(confidence=0.0064534503), 'sadness': ClassifyResponseClassificationsItemLabelsValue(confidence=0.82194823), 'surprise': ClassifyResponseClassificationsItemLabelsValue(confidence=0.0019984143)}, classification_type='single-label')] meta=ApiMeta(api_version=ApiMetaApiVersion(version='1', is_deprecated=None, is_experimental=None), billed_units=ApiMetaBilledUnits(input_tokens=None, output_tokens=None, search_units=None, classifications=3), tokens=None, warnings=None)\n"
          ]
        }
      ]
    },
    {
      "cell_type": "code",
      "source": [
        "# Iterate through the classifications and print the input text along with the top prediction\n",
        "for i, classification in enumerate(response.classifications):\n",
        "    print(classification.input, classification.predictions[0])\n"
      ],
      "metadata": {
        "id": "m5WAXCI-PQgH",
        "outputId": "09056475-2a89-4692-fb79-00bb13165c75",
        "colab": {
          "base_uri": "https://localhost:8080/"
        }
      },
      "execution_count": 37,
      "outputs": [
        {
          "output_type": "stream",
          "name": "stdout",
          "text": [
            "I am on cloud 9! joy\n",
            "Try to talk to me again and I will break your pencil!! joy\n",
            "I am about to cry sadness\n"
          ]
        }
      ]
    },
    {
      "cell_type": "code",
      "source": [
        "# Example training data\n",
        "import cohere\n",
        "from cohere import ClassifyExample\n",
        "\n",
        "co = cohere.Client('A2f5Dt0nZJsKIoIW0WCtMs0iLjfqnsOVw5zHUFHt')\n",
        "\n",
        "# Sample inputs for classification\n",
        "inputs = [\n",
        "    \"I am on cloud 9!\",\n",
        "    \"You complete me, I want to spend the rest of my life with you as my partner\",\n",
        "    \"I am about to cry\"\n",
        "]\n",
        "\n",
        "# Retrieve the label names from the dataset\n",
        "label_descriptions = emotion['train'].features['label'].names\n",
        "print(\"Label Descriptions:\", label_descriptions)\n",
        "\n",
        "# Create classification examples from the training data\n",
        "examples = [\n",
        "    ClassifyExample(text=emotion['train'][i]['text'], label=label_descriptions[emotion['train'][i]['label']])\n",
        "    for i in range(min(100, len(emotion['train'])))\n",
        "]\n",
        "print(\"Classification Examples:\", examples)\n",
        "print(\"Input Texts:\", inputs)\n"
      ],
      "metadata": {
        "id": "Z6NcNsbXPQ9a",
        "outputId": "91f0a1f9-d9b8-4bad-f88d-862d8f433ffa",
        "colab": {
          "base_uri": "https://localhost:8080/"
        }
      },
      "execution_count": 38,
      "outputs": [
        {
          "output_type": "stream",
          "name": "stdout",
          "text": [
            "Label Descriptions: ['sadness', 'joy', 'love', 'anger', 'fear', 'surprise']\n",
            "Classification Examples: [ClassifyExample(text='i didnt feel humiliated', label='sadness'), ClassifyExample(text='i can go from feeling so hopeless to so damned hopeful just from being around someone who cares and is awake', label='sadness'), ClassifyExample(text='im grabbing a minute to post i feel greedy wrong', label='anger'), ClassifyExample(text='i am ever feeling nostalgic about the fireplace i will know that it is still on the property', label='love'), ClassifyExample(text='i am feeling grouchy', label='anger'), ClassifyExample(text='ive been feeling a little burdened lately wasnt sure why that was', label='sadness'), ClassifyExample(text='ive been taking or milligrams or times recommended amount and ive fallen asleep a lot faster but i also feel like so funny', label='surprise'), ClassifyExample(text='i feel as confused about life as a teenager or as jaded as a year old man', label='fear'), ClassifyExample(text='i have been with petronas for years i feel that petronas has performed well and made a huge profit', label='joy'), ClassifyExample(text='i feel romantic too', label='love'), ClassifyExample(text='i feel like i have to make the suffering i m seeing mean something', label='sadness'), ClassifyExample(text='i do feel that running is a divine experience and that i can expect to have some type of spiritual encounter', label='joy'), ClassifyExample(text='i think it s the easiest time of year to feel dissatisfied', label='anger'), ClassifyExample(text='i feel low energy i m just thirsty', label='sadness'), ClassifyExample(text='i have immense sympathy with the general point but as a possible proto writer trying to find time to write in the corners of life and with no sign of an agent let alone a publishing contract this feels a little precious', label='joy'), ClassifyExample(text='i do not feel reassured anxiety is on each side', label='joy'), ClassifyExample(text='i didnt really feel that embarrassed', label='sadness'), ClassifyExample(text='i feel pretty pathetic most of the time', label='sadness'), ClassifyExample(text='i started feeling sentimental about dolls i had as a child and so began a collection of vintage barbie dolls from the sixties', label='sadness'), ClassifyExample(text='i now feel compromised and skeptical of the value of every unit of work i put in', label='fear'), ClassifyExample(text='i feel irritated and rejected without anyone doing anything or saying anything', label='anger'), ClassifyExample(text='i am feeling completely overwhelmed i have two strategies that help me to feel grounded pour my heart out in my journal in the form of a letter to god and then end with a list of five things i am most grateful for', label='fear'), ClassifyExample(text='i have the feeling she was amused and delighted', label='joy'), ClassifyExample(text='i was able to help chai lifeline with your support and encouragement is a great feeling and i am so glad you were able to help me', label='joy'), ClassifyExample(text='i already feel like i fucked up though because i dont usually eat at all in the morning', label='anger'), ClassifyExample(text='i still love my so and wish the best for him i can no longer tolerate the effect that bm has on our lives and the fact that is has turned my so into a bitter angry person who is not always particularly kind to the people around him when he is feeling stressed', label='sadness'), ClassifyExample(text='i feel so inhibited in someone elses kitchen like im painting on someone elses picture', label='sadness'), ClassifyExample(text='i become overwhelmed and feel defeated', label='sadness'), ClassifyExample(text='i feel kinda appalled that she feels like she needs to explain in wide and lenghth her body measures etc pp', label='anger'), ClassifyExample(text='i feel more superior dead chicken or grieving child', label='joy'), ClassifyExample(text='i get giddy over feeling elegant in a perfectly fitted pencil skirt', label='joy'), ClassifyExample(text='i remember feeling acutely distressed for a few days', label='fear'), ClassifyExample(text='i have seen heard and read over the past couple of days i am left feeling impressed by more than a few companies', label='surprise'), ClassifyExample(text='i climbed the hill feeling frustrated that id pretty much paced entirely wrong for this course and that a factor that has never ever hampered me had made such a dent in the day', label='anger'), ClassifyExample(text='i can t imagine a real life scenario where i would be emotionally connected enough with someone to feel totally accepted and safe where it it morally acceptable for me to have close and prolonged physical contact and where sex won t be expected subsequently', label='joy'), ClassifyExample(text='i am not sure what would make me feel content if anything', label='joy'), ClassifyExample(text='i have been feeling the need to be creative', label='joy'), ClassifyExample(text='i do however want you to know that if something someone is causing you to feel less then your splendid self step away from them', label='joy'), ClassifyExample(text='i feel a bit rude writing to an elderly gentleman to ask for gifts because i feel a bit greedy but what is christmas about if not mild greed', label='anger'), ClassifyExample(text='i need you i need someone i need to be protected and feel safe i am small now i find myself in a season of no words', label='joy'), ClassifyExample(text='i plan to share my everyday life stories traveling adventures inspirations and handmade creations with you and hope you will also feel inspired', label='joy'), ClassifyExample(text='i already have my christmas trees up i got two and am feeling festive which i m sure is spurring me to get started on this book', label='joy'), ClassifyExample(text='ive worn it once on its own with a little concealer and for the days im feeling brave but dont want to be pale then its perfect', label='joy'), ClassifyExample(text='i feel very strongly passionate about when some jerk off decides to poke and make fun of us', label='joy'), ClassifyExample(text='i was feeling so discouraged we are already robbing peter to pay paul to get our cow this year but we cant afford to not get the cow this way', label='sadness'), ClassifyExample(text='i was feeling listless from the need of new things something different', label='sadness'), ClassifyExample(text='i lost my special mind but don t worry i m still sane i just wanted you to feel what i felt while reading this book i don t know how many times it was said that sam was special but i can guarantee you it was many more times than what i used in that paragraph did i tell you she was special', label='joy'), ClassifyExample(text='i can t let go of that sad feeling that i want to be accepted here in this first home of mine', label='love'), ClassifyExample(text='on a boat trip to denmark', label='joy'), ClassifyExample(text='i stopped feeling cold and began feeling hot', label='anger'), ClassifyExample(text='i need to feel the dough to make sure its just perfect', label='joy'), ClassifyExample(text='i found myself feeling a little discouraged that morning', label='sadness'), ClassifyExample(text='i feel selfish and spoiled', label='anger'), ClassifyExample(text='i was stymied a little bit as i wrote feeling unsure that i might go somewhere with the story unintended', label='fear'), ClassifyExample(text='i bag qaf look who s cryin now jacynthe lookin good feelin gorgeous rupaul the skins scissor sisters valentine the sun fed up kayle who s your daddy gerling awake the unkind u', label='joy'), ClassifyExample(text='i feel you know basically like a fake in the realm of science fiction', label='sadness'), ClassifyExample(text='i hate living under my dads roof because it gives him an excuse to be an asshole to me because hes providing for me to live here i think he feels that he needs to make me feel as unwelcome as possible so ill leave', label='sadness'), ClassifyExample(text='i keep feeling pleasantly surprised at his supportiveness and also his ease in new situations', label='surprise'), ClassifyExample(text='i have this feeling that if i have anymore vigorous sexual activity in the coming yes i misspelt that as cumming days parts of me will begin to fall off', label='joy'), ClassifyExample(text='i feel my mom s graceful warm loving smile as i rob the time to nurture myself and heal', label='joy'), ClassifyExample(text='i feel in they talk the brother in law is extremely popular the one that had no me to think is so stiff', label='joy'), ClassifyExample(text='i ate i could feel a gentle tingle throughout almost as if i was feeling the healing taking place at a cellular level', label='love'), ClassifyExample(text='i feel like we are pressured into being young beautiful thin and depending on the trend having the girls rejuvenated or butt implants', label='fear'), ClassifyExample(text='i began having them several times a week feeling tortured by the hallucinations moving people and figures sounds and vibrations', label='fear'), ClassifyExample(text='i am now nearly finished the week detox and i feel amazing', label='surprise'), ClassifyExample(text='i feel selfish as i read back to my former posts how i have never asked for prayers for others how i never considered that there may be others out there that deserve their prayers answered before my own', label='anger'), ClassifyExample(text='i know the pain parents feel when an enraged child becomes violent', label='anger'), ClassifyExample(text='i have been on a roller coaster of emotions over these supposed feelings that something unpleasant was coming', label='sadness'), ClassifyExample(text='i suppose my own truth needs to be shared i havent been feeling very faithful lately ive dwelled more in doubt and uncertainty than i have in faith', label='love'), ClassifyExample(text='i was feeling brave when i bought it and clearly when i was doing my makeup', label='joy'), ClassifyExample(text='i am feeling miserable but c i am also the proudest mum on earth', label='sadness'), ClassifyExample(text='i figure my family loves us no matter what but around anyone else i feel embarrassed when michelle goes ballistic', label='sadness'), ClassifyExample(text='i don t necessarily think f bombs and sex are necessary in all stories but i feel reassured when i see them in print journals', label='joy'), ClassifyExample(text='i can feel my ovaries aching talking to me as i like to put it', label='sadness'), ClassifyExample(text='i didn t feel like doing much chris and i mostly just took too many pictures of unimportant stuff', label='sadness'), ClassifyExample(text='im tired of the book and ready to have it out of here and finding out that i was given unsuitable images and then feeling blamed for the result did not sit well', label='sadness'), ClassifyExample(text='i did successfully manage to stretch a mxm canvas i feel that this is an achievement in itself for me and was a worthwhile usage of my money and time i will use the canvas for future briefs', label='joy'), ClassifyExample(text='i think feelings are one of nay the most important things we have', label='joy'), ClassifyExample(text='i feel completely honored to be an influence to this young talented fully alive beautiful girl woman', label='joy'), ClassifyExample(text='i feel angered and firey', label='anger'), ClassifyExample(text='i feel like a miserable piece of garbage', label='sadness'), ClassifyExample(text='i feel like i need to make a list leanne would be appalled at the thought so that i dont miss anything', label='anger'), ClassifyExample(text='i drove dannika to school i was feeling a little bit rushed and this is what greeted me as i turned the corner', label='anger'), ClassifyExample(text='i remember feeling so hellip furious with the shooter', label='anger'), ClassifyExample(text='i feel very happy and excited since i learned so many things', label='joy'), ClassifyExample(text='i feel that at shows and around show horses people are trusting and relaxed because most show horses are safe and quiet and are handled frequently', label='joy'), ClassifyExample(text='i only have a couple of things left to make and at the start of december i am done and feeling smug', label='joy'), ClassifyExample(text='i think about how u could make me feel and realize that everything will be ok', label='joy'), ClassifyExample(text='i feel so worthless during those times i was struggling finding work', label='sadness'), ClassifyExample(text='i will be able to lay on my bed in the dark and not feel terrified at least for a while', label='fear'), ClassifyExample(text='i was ready to meet mom in the airport and feel her ever supportive arms around me', label='love'), ClassifyExample(text='im feeling bitter today my mood has been strange the entire day so i guess its that', label='anger'), ClassifyExample(text='when my mums brother passed away after having been involved in a car accident he was bringing me a present as i had passed my form five exams with flying colours', label='sadness'), ClassifyExample(text='i am letting go of the animosity that is towards anyone that i feel has wronged me', label='anger'), ClassifyExample(text='i talk to dogs as i feel they cannot understand words but they can read emotions and know how to be supportive i decided i should go home', label='love'), ClassifyExample(text='i feel like throwing away the shitty piece of shit paper', label='sadness'), ClassifyExample(text='im starting to feel wryly amused at the banal comedy of errors my life is turning into', label='joy'), ClassifyExample(text='i find every body beautiful and only want people to feel vital in their bodies', label='joy'), ClassifyExample(text='i hear are owners who feel victimized by their associations the associations attorneys or the property manager', label='sadness'), ClassifyExample(text='i say goodbye to the fam theyre all sad a crying and i feel like a heartless bitch because hey im pretty excited to be flying for the first time and you know also to spend a year in another country', label='anger')]\n",
            "Input Texts: ['I am on cloud 9!', 'You complete me, I want to spend the rest of my life with you as my partner', 'I am about to cry']\n"
          ]
        }
      ]
    },
    {
      "cell_type": "code",
      "source": [
        "# Perform classification using the specified model and input examples\n",
        "response = co.classify(\n",
        "    model='embed-english-light-v3.0',\n",
        "    inputs=inputs,\n",
        "    examples=examples\n",
        ")\n",
        "\n",
        "# Display the confidence levels of the predicted labels\n",
        "print(f'Label Confidence: {response.classifications}')\n",
        "print(response)\n"
      ],
      "metadata": {
        "id": "cXkq5msXQSt3",
        "outputId": "275b80b8-1257-457a-ab3b-c13208f0726e",
        "colab": {
          "base_uri": "https://localhost:8080/"
        }
      },
      "execution_count": 40,
      "outputs": [
        {
          "output_type": "stream",
          "name": "stdout",
          "text": [
            "Label Confidence: [ClassifyResponseClassificationsItem(id='d1dab3fe-9fb1-412c-9359-ac022d19e2d9', input='i am on cloud 9!', prediction='joy', predictions=['joy'], confidence=0.41486898, confidences=[0.41486898], labels={'anger': ClassifyResponseClassificationsItemLabelsValue(confidence=0.17871678), 'fear': ClassifyResponseClassificationsItemLabelsValue(confidence=0.07425931), 'joy': ClassifyResponseClassificationsItemLabelsValue(confidence=0.41486898), 'love': ClassifyResponseClassificationsItemLabelsValue(confidence=0.08180201), 'sadness': ClassifyResponseClassificationsItemLabelsValue(confidence=0.19367865), 'surprise': ClassifyResponseClassificationsItemLabelsValue(confidence=0.056674287)}, classification_type='single-label'), ClassifyResponseClassificationsItem(id='b8491020-ad73-4524-89bb-4b785535cbf0', input='you complete me, i want to spend the rest of my life with you as my partner', prediction='joy', predictions=['joy'], confidence=0.53057504, confidences=[0.53057504], labels={'anger': ClassifyResponseClassificationsItemLabelsValue(confidence=0.0966293), 'fear': ClassifyResponseClassificationsItemLabelsValue(confidence=0.06373828), 'joy': ClassifyResponseClassificationsItemLabelsValue(confidence=0.53057504), 'love': ClassifyResponseClassificationsItemLabelsValue(confidence=0.08720613), 'sadness': ClassifyResponseClassificationsItemLabelsValue(confidence=0.18161464), 'surprise': ClassifyResponseClassificationsItemLabelsValue(confidence=0.04023663)}, classification_type='single-label'), ClassifyResponseClassificationsItem(id='27220d24-39b4-4d9b-9ceb-4b8f0dda5d32', input='i am about to cry', prediction='sadness', predictions=['sadness'], confidence=0.40414613, confidences=[0.40414613], labels={'anger': ClassifyResponseClassificationsItemLabelsValue(confidence=0.26861474), 'fear': ClassifyResponseClassificationsItemLabelsValue(confidence=0.08035401), 'joy': ClassifyResponseClassificationsItemLabelsValue(confidence=0.15120807), 'love': ClassifyResponseClassificationsItemLabelsValue(confidence=0.0686966), 'sadness': ClassifyResponseClassificationsItemLabelsValue(confidence=0.40414613), 'surprise': ClassifyResponseClassificationsItemLabelsValue(confidence=0.02698042)}, classification_type='single-label')]\n",
            "id='347b81bb-5bf4-4755-aa87-7873a526b462' classifications=[ClassifyResponseClassificationsItem(id='d1dab3fe-9fb1-412c-9359-ac022d19e2d9', input='i am on cloud 9!', prediction='joy', predictions=['joy'], confidence=0.41486898, confidences=[0.41486898], labels={'anger': ClassifyResponseClassificationsItemLabelsValue(confidence=0.17871678), 'fear': ClassifyResponseClassificationsItemLabelsValue(confidence=0.07425931), 'joy': ClassifyResponseClassificationsItemLabelsValue(confidence=0.41486898), 'love': ClassifyResponseClassificationsItemLabelsValue(confidence=0.08180201), 'sadness': ClassifyResponseClassificationsItemLabelsValue(confidence=0.19367865), 'surprise': ClassifyResponseClassificationsItemLabelsValue(confidence=0.056674287)}, classification_type='single-label'), ClassifyResponseClassificationsItem(id='b8491020-ad73-4524-89bb-4b785535cbf0', input='you complete me, i want to spend the rest of my life with you as my partner', prediction='joy', predictions=['joy'], confidence=0.53057504, confidences=[0.53057504], labels={'anger': ClassifyResponseClassificationsItemLabelsValue(confidence=0.0966293), 'fear': ClassifyResponseClassificationsItemLabelsValue(confidence=0.06373828), 'joy': ClassifyResponseClassificationsItemLabelsValue(confidence=0.53057504), 'love': ClassifyResponseClassificationsItemLabelsValue(confidence=0.08720613), 'sadness': ClassifyResponseClassificationsItemLabelsValue(confidence=0.18161464), 'surprise': ClassifyResponseClassificationsItemLabelsValue(confidence=0.04023663)}, classification_type='single-label'), ClassifyResponseClassificationsItem(id='27220d24-39b4-4d9b-9ceb-4b8f0dda5d32', input='i am about to cry', prediction='sadness', predictions=['sadness'], confidence=0.40414613, confidences=[0.40414613], labels={'anger': ClassifyResponseClassificationsItemLabelsValue(confidence=0.26861474), 'fear': ClassifyResponseClassificationsItemLabelsValue(confidence=0.08035401), 'joy': ClassifyResponseClassificationsItemLabelsValue(confidence=0.15120807), 'love': ClassifyResponseClassificationsItemLabelsValue(confidence=0.0686966), 'sadness': ClassifyResponseClassificationsItemLabelsValue(confidence=0.40414613), 'surprise': ClassifyResponseClassificationsItemLabelsValue(confidence=0.02698042)}, classification_type='single-label')] meta=ApiMeta(api_version=ApiMetaApiVersion(version='1', is_deprecated=None, is_experimental=None), billed_units=ApiMetaBilledUnits(input_tokens=None, output_tokens=None, search_units=None, classifications=3), tokens=None, warnings=None)\n"
          ]
        }
      ]
    },
    {
      "cell_type": "code",
      "source": [],
      "metadata": {
        "id": "IUL5uXgVQlgw"
      },
      "execution_count": null,
      "outputs": []
    }
  ]
}